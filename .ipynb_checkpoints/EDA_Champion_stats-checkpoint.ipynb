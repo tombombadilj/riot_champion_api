{
 "cells": [
  {
   "cell_type": "code",
   "execution_count": 439,
   "metadata": {
    "collapsed": false
   },
   "outputs": [],
   "source": [
    "import sqlite3\n",
    "import pandas as pd\n",
    "import numpy as np\n",
    "import matplotlib.pyplot as plt\n",
    "import seaborn as sns\n",
    "import scipy\n",
    "sns.set()"
   ]
  },
  {
   "cell_type": "markdown",
   "metadata": {},
   "source": [
    "Working with numeric variables first"
   ]
  },
  {
   "cell_type": "code",
   "execution_count": 174,
   "metadata": {
    "collapsed": true
   },
   "outputs": [],
   "source": [
    "conn = sqlite3.connect(\"champion_riot.sqlite\")\n",
    "cur = conn.cursor()"
   ]
  },
  {
   "cell_type": "code",
   "execution_count": 363,
   "metadata": {
    "collapsed": false
   },
   "outputs": [
    {
     "data": {
      "text/html": [
       "<div>\n",
       "<style>\n",
       "    .dataframe thead tr:only-child th {\n",
       "        text-align: right;\n",
       "    }\n",
       "\n",
       "    .dataframe thead th {\n",
       "        text-align: left;\n",
       "    }\n",
       "\n",
       "    .dataframe tbody tr th {\n",
       "        vertical-align: top;\n",
       "    }\n",
       "</style>\n",
       "<table border=\"1\" class=\"dataframe\">\n",
       "  <thead>\n",
       "    <tr style=\"text-align: right;\">\n",
       "      <th></th>\n",
       "      <th>name</th>\n",
       "    </tr>\n",
       "  </thead>\n",
       "  <tbody>\n",
       "    <tr>\n",
       "      <th>0</th>\n",
       "      <td>allytips</td>\n",
       "    </tr>\n",
       "    <tr>\n",
       "      <th>1</th>\n",
       "      <td>blurb</td>\n",
       "    </tr>\n",
       "    <tr>\n",
       "      <th>2</th>\n",
       "      <td>enemytips</td>\n",
       "    </tr>\n",
       "    <tr>\n",
       "      <th>3</th>\n",
       "      <td>format</td>\n",
       "    </tr>\n",
       "    <tr>\n",
       "      <th>4</th>\n",
       "      <td>info</td>\n",
       "    </tr>\n",
       "    <tr>\n",
       "      <th>5</th>\n",
       "      <td>partype</td>\n",
       "    </tr>\n",
       "    <tr>\n",
       "      <th>6</th>\n",
       "      <td>passive</td>\n",
       "    </tr>\n",
       "    <tr>\n",
       "      <th>7</th>\n",
       "      <td>skins</td>\n",
       "    </tr>\n",
       "    <tr>\n",
       "      <th>8</th>\n",
       "      <td>spells</td>\n",
       "    </tr>\n",
       "    <tr>\n",
       "      <th>9</th>\n",
       "      <td>stats</td>\n",
       "    </tr>\n",
       "    <tr>\n",
       "      <th>10</th>\n",
       "      <td>tags</td>\n",
       "    </tr>\n",
       "  </tbody>\n",
       "</table>\n",
       "</div>"
      ],
      "text/plain": [
       "         name\n",
       "0    allytips\n",
       "1       blurb\n",
       "2   enemytips\n",
       "3      format\n",
       "4        info\n",
       "5     partype\n",
       "6     passive\n",
       "7       skins\n",
       "8      spells\n",
       "9       stats\n",
       "10       tags"
      ]
     },
     "execution_count": 363,
     "metadata": {},
     "output_type": "execute_result"
    }
   ],
   "source": [
    "# all tables in the database champion_riot_sqlite\n",
    "pd.read_sql_query(\"\"\"SELECT name FROM sqlite_master\n",
    "                     WHERE type='table'\n",
    "                     ORDER BY name;\"\"\", conn)"
   ]
  },
  {
   "cell_type": "code",
   "execution_count": 176,
   "metadata": {
    "collapsed": false
   },
   "outputs": [],
   "source": [
    "df = pd.read_sql_query(\"\"\"SELECT a.title, a.id, a.name, b.difficulty, b.attack, b.defense, b.magic\n",
    "                          FROM allytips a \n",
    "                          LEFT JOIN (SELECT * FROM info) b \n",
    "                          ON a.id = b.id\"\"\", conn)"
   ]
  },
  {
   "cell_type": "code",
   "execution_count": 177,
   "metadata": {
    "collapsed": false
   },
   "outputs": [
    {
     "data": {
      "text/plain": [
       "(137, 7)"
      ]
     },
     "execution_count": 177,
     "metadata": {},
     "output_type": "execute_result"
    }
   ],
   "source": [
    "# a total of 137 champions are currently in the game\n",
    "df.shape"
   ]
  },
  {
   "cell_type": "code",
   "execution_count": 178,
   "metadata": {
    "collapsed": false
   },
   "outputs": [
    {
     "data": {
      "text/html": [
       "<div>\n",
       "<style>\n",
       "    .dataframe thead tr:only-child th {\n",
       "        text-align: right;\n",
       "    }\n",
       "\n",
       "    .dataframe thead th {\n",
       "        text-align: left;\n",
       "    }\n",
       "\n",
       "    .dataframe tbody tr th {\n",
       "        vertical-align: top;\n",
       "    }\n",
       "</style>\n",
       "<table border=\"1\" class=\"dataframe\">\n",
       "  <thead>\n",
       "    <tr style=\"text-align: right;\">\n",
       "      <th></th>\n",
       "      <th>difficulty</th>\n",
       "      <th>attack</th>\n",
       "      <th>defense</th>\n",
       "      <th>magic</th>\n",
       "    </tr>\n",
       "  </thead>\n",
       "  <tbody>\n",
       "    <tr>\n",
       "      <th>min</th>\n",
       "      <td>1.000000</td>\n",
       "      <td>1.000000</td>\n",
       "      <td>1.000000</td>\n",
       "      <td>1.000000</td>\n",
       "    </tr>\n",
       "    <tr>\n",
       "      <th>mean</th>\n",
       "      <td>5.751825</td>\n",
       "      <td>5.540146</td>\n",
       "      <td>4.773723</td>\n",
       "      <td>5.423358</td>\n",
       "    </tr>\n",
       "    <tr>\n",
       "      <th>median</th>\n",
       "      <td>6.000000</td>\n",
       "      <td>6.000000</td>\n",
       "      <td>5.000000</td>\n",
       "      <td>6.000000</td>\n",
       "    </tr>\n",
       "    <tr>\n",
       "      <th>max</th>\n",
       "      <td>10.000000</td>\n",
       "      <td>10.000000</td>\n",
       "      <td>10.000000</td>\n",
       "      <td>10.000000</td>\n",
       "    </tr>\n",
       "  </tbody>\n",
       "</table>\n",
       "</div>"
      ],
      "text/plain": [
       "        difficulty     attack    defense      magic\n",
       "min       1.000000   1.000000   1.000000   1.000000\n",
       "mean      5.751825   5.540146   4.773723   5.423358\n",
       "median    6.000000   6.000000   5.000000   6.000000\n",
       "max      10.000000  10.000000  10.000000  10.000000"
      ]
     },
     "execution_count": 178,
     "metadata": {},
     "output_type": "execute_result"
    }
   ],
   "source": [
    "# all info ranges from 1 to 10\n",
    "df[[\"difficulty\",\"attack\",\"defense\",\"magic\"]].aggregate([\"min\",\"mean\",\"median\",\"max\"])"
   ]
  },
  {
   "cell_type": "code",
   "execution_count": 179,
   "metadata": {
    "collapsed": false
   },
   "outputs": [
    {
     "data": {
      "text/html": [
       "<div>\n",
       "<style>\n",
       "    .dataframe thead tr:only-child th {\n",
       "        text-align: right;\n",
       "    }\n",
       "\n",
       "    .dataframe thead th {\n",
       "        text-align: left;\n",
       "    }\n",
       "\n",
       "    .dataframe tbody tr th {\n",
       "        vertical-align: top;\n",
       "    }\n",
       "</style>\n",
       "<table border=\"1\" class=\"dataframe\">\n",
       "  <thead>\n",
       "    <tr style=\"text-align: right;\">\n",
       "      <th></th>\n",
       "      <th>difficulty</th>\n",
       "      <th>attack</th>\n",
       "      <th>defense</th>\n",
       "      <th>magic</th>\n",
       "    </tr>\n",
       "  </thead>\n",
       "  <tbody>\n",
       "    <tr>\n",
       "      <th>difficulty</th>\n",
       "      <td>1.000000</td>\n",
       "      <td>-0.194008</td>\n",
       "      <td>-0.310971</td>\n",
       "      <td>0.308174</td>\n",
       "    </tr>\n",
       "    <tr>\n",
       "      <th>attack</th>\n",
       "      <td>-0.194008</td>\n",
       "      <td>1.000000</td>\n",
       "      <td>-0.178120</td>\n",
       "      <td>-0.828016</td>\n",
       "    </tr>\n",
       "    <tr>\n",
       "      <th>defense</th>\n",
       "      <td>-0.310971</td>\n",
       "      <td>-0.178120</td>\n",
       "      <td>1.000000</td>\n",
       "      <td>-0.131800</td>\n",
       "    </tr>\n",
       "    <tr>\n",
       "      <th>magic</th>\n",
       "      <td>0.308174</td>\n",
       "      <td>-0.828016</td>\n",
       "      <td>-0.131800</td>\n",
       "      <td>1.000000</td>\n",
       "    </tr>\n",
       "  </tbody>\n",
       "</table>\n",
       "</div>"
      ],
      "text/plain": [
       "            difficulty    attack   defense     magic\n",
       "difficulty    1.000000 -0.194008 -0.310971  0.308174\n",
       "attack       -0.194008  1.000000 -0.178120 -0.828016\n",
       "defense      -0.310971 -0.178120  1.000000 -0.131800\n",
       "magic         0.308174 -0.828016 -0.131800  1.000000"
      ]
     },
     "execution_count": 179,
     "metadata": {},
     "output_type": "execute_result"
    }
   ],
   "source": [
    "df[[\"difficulty\",\"attack\",\"defense\",\"magic\"]].corr(method='pearson')"
   ]
  },
  {
   "cell_type": "code",
   "execution_count": 180,
   "metadata": {
    "collapsed": false
   },
   "outputs": [
    {
     "data": {
      "image/png": "[encoded data removed]",
      "text/plain": [
       "<matplotlib.figure.Figure at 0x11ae81e10>"
      ]
     },
     "metadata": {},
     "output_type": "display_data"
    }
   ],
   "source": [
    "sns.heatmap(df[[\"difficulty\",\"attack\",\"defense\",\"magic\"]].corr(method='pearson'))\n",
    "plt.show()"
   ]
  },
  {
   "cell_type": "code",
   "execution_count": 181,
   "metadata": {
    "collapsed": false
   },
   "outputs": [
    {
     "name": "stdout",
     "output_type": "stream",
     "text": [
      "(-0.19400783573555302, 0.023109157613865467)\n",
      "(-0.31097050809761989, 0.00021679150909228914)\n",
      "(0.3081741957747251, 0.00024867946587844831)\n"
     ]
    }
   ],
   "source": [
    "print(scipy.stats.pearsonr(df[\"difficulty\"], df[\"attack\"])) # significant weak negative correlation\n",
    "print(scipy.stats.pearsonr(df[\"difficulty\"], df[\"defense\"])) # significant weak negative correlation\n",
    "print(scipy.stats.pearsonr(df[\"difficulty\"], df[\"magic\"])) # significant weak positive correlation"
   ]
  },
  {
   "cell_type": "code",
   "execution_count": 182,
   "metadata": {
    "collapsed": false
   },
   "outputs": [
    {
     "name": "stdout",
     "output_type": "stream",
     "text": [
      "(-0.17811991342786959, 0.03730409391972505)\n",
      "(-0.82801553843011422, 9.9003928907948432e-36)\n"
     ]
    }
   ],
   "source": [
    "print(scipy.stats.pearsonr(df[\"attack\"], df[\"defense\"])) # significant weak negative correlation\n",
    "print(scipy.stats.pearsonr(df[\"attack\"], df[\"magic\"])) # significant strong negative correlation"
   ]
  },
  {
   "cell_type": "code",
   "execution_count": 183,
   "metadata": {
    "collapsed": false
   },
   "outputs": [
    {
     "name": "stdout",
     "output_type": "stream",
     "text": [
      "(-0.13179968744554141, 0.1247233505738516)\n"
     ]
    }
   ],
   "source": [
    "print(scipy.stats.pearsonr(df[\"defense\"], df[\"magic\"])) # Not significant weak negative correlation"
   ]
  },
  {
   "cell_type": "code",
   "execution_count": 184,
   "metadata": {
    "collapsed": false
   },
   "outputs": [
    {
     "data": {
      "image/png": "[encoded data removed]",
      "text/plain": [
       "<matplotlib.figure.Figure at 0x1168af390>"
      ]
     },
     "metadata": {},
     "output_type": "display_data"
    }
   ],
   "source": [
    "plt.subplot(1, 4, 1)\n",
    "plt.title(\"Difficulty Level\")\n",
    "sns.boxplot(df[\"difficulty\"],orient = \"v\")\n",
    "plt.ylim([0 , 12])\n",
    "plt.subplot(1, 4, 2)\n",
    "plt.title(\"Attack Level\")\n",
    "sns.boxplot(df[\"attack\"],orient = \"v\")\n",
    "plt.ylim([0 , 12])\n",
    "plt.subplot(1, 4, 3)\n",
    "plt.title(\"Defense Level\")\n",
    "sns.boxplot(df[\"defense\"],orient = \"v\")\n",
    "plt.ylim([0 , 12])\n",
    "plt.subplot(1, 4, 4)\n",
    "plt.title(\"Magic Level\")\n",
    "sns.boxplot(df[\"magic\"],orient = \"v\")\n",
    "plt.ylim([0 , 12])\n",
    "plt.tight_layout()\n",
    "plt.show()"
   ]
  },
  {
   "cell_type": "markdown",
   "metadata": {
    "collapsed": true
   },
   "source": [
    "Difficulty, attack, defense, and magic levels were all on a scale of 1 to 10. difficulty, attack, and magic had a medium around 6, while defense has the lowest medium at 5 - the distribution of defense was also lowered than the others. Defense and difficulty levels were negatively associated with each other (-0.31). Difficulty was positively related to magic (0.31). Attack was strongly negatively associated with magic (-0.83). Only difficulty and magic is negatively correlated with each other. "
   ]
  },
  {
   "cell_type": "code",
   "execution_count": 185,
   "metadata": {
    "collapsed": false
   },
   "outputs": [
    {
     "data": {
      "text/plain": [
       "full    137\n",
       "Name: format, dtype: int64"
      ]
     },
     "execution_count": 185,
     "metadata": {},
     "output_type": "execute_result"
    }
   ],
   "source": [
    "# all champions have a format of full - skip format\n",
    "pd.read_sql_query(\"\"\"SELECT * FROM format\"\"\", conn)[\"format\"].value_counts()"
   ]
  },
  {
   "cell_type": "code",
   "execution_count": 186,
   "metadata": {
    "collapsed": false
   },
   "outputs": [],
   "source": [
    "# partype data \n",
    "df1 = pd.read_sql_query(\"\"\"SELECT * FROM partype\"\"\", conn)"
   ]
  },
  {
   "cell_type": "code",
   "execution_count": 187,
   "metadata": {
    "collapsed": false
   },
   "outputs": [
    {
     "data": {
      "text/html": [
       "<div>\n",
       "<style>\n",
       "    .dataframe thead tr:only-child th {\n",
       "        text-align: right;\n",
       "    }\n",
       "\n",
       "    .dataframe thead th {\n",
       "        text-align: left;\n",
       "    }\n",
       "\n",
       "    .dataframe tbody tr th {\n",
       "        vertical-align: top;\n",
       "    }\n",
       "</style>\n",
       "<table border=\"1\" class=\"dataframe\">\n",
       "  <thead>\n",
       "    <tr style=\"text-align: right;\">\n",
       "      <th></th>\n",
       "      <th>partype</th>\n",
       "      <th>id</th>\n",
       "    </tr>\n",
       "  </thead>\n",
       "  <tbody>\n",
       "    <tr>\n",
       "      <th>0</th>\n",
       "      <td>Mana</td>\n",
       "      <td>1</td>\n",
       "    </tr>\n",
       "    <tr>\n",
       "      <th>1</th>\n",
       "      <td>Mana</td>\n",
       "      <td>10</td>\n",
       "    </tr>\n",
       "    <tr>\n",
       "      <th>2</th>\n",
       "      <td>Mana</td>\n",
       "      <td>101</td>\n",
       "    </tr>\n",
       "  </tbody>\n",
       "</table>\n",
       "</div>"
      ],
      "text/plain": [
       "  partype   id\n",
       "0    Mana    1\n",
       "1    Mana   10\n",
       "2    Mana  101"
      ]
     },
     "execution_count": 187,
     "metadata": {},
     "output_type": "execute_result"
    }
   ],
   "source": [
    "df1.head(3)"
   ]
  },
  {
   "cell_type": "code",
   "execution_count": 188,
   "metadata": {
    "collapsed": false
   },
   "outputs": [],
   "source": [
    "graph = df1[\"partype\"].value_counts().reset_index()"
   ]
  },
  {
   "cell_type": "code",
   "execution_count": 189,
   "metadata": {
    "collapsed": true
   },
   "outputs": [],
   "source": [
    "graph[\"percent\"] = graph[\"partype\"]/137.*100"
   ]
  },
  {
   "cell_type": "code",
   "execution_count": 190,
   "metadata": {
    "collapsed": false
   },
   "outputs": [
    {
     "data": {
      "text/html": [
       "<div>\n",
       "<style>\n",
       "    .dataframe thead tr:only-child th {\n",
       "        text-align: right;\n",
       "    }\n",
       "\n",
       "    .dataframe thead th {\n",
       "        text-align: left;\n",
       "    }\n",
       "\n",
       "    .dataframe tbody tr th {\n",
       "        vertical-align: top;\n",
       "    }\n",
       "</style>\n",
       "<table border=\"1\" class=\"dataframe\">\n",
       "  <thead>\n",
       "    <tr style=\"text-align: right;\">\n",
       "      <th></th>\n",
       "      <th>index</th>\n",
       "      <th>partype</th>\n",
       "      <th>percent</th>\n",
       "    </tr>\n",
       "  </thead>\n",
       "  <tbody>\n",
       "    <tr>\n",
       "      <th>0</th>\n",
       "      <td>Mana</td>\n",
       "      <td>115</td>\n",
       "      <td>83.941606</td>\n",
       "    </tr>\n",
       "    <tr>\n",
       "      <th>1</th>\n",
       "      <td>Energy</td>\n",
       "      <td>5</td>\n",
       "      <td>3.649635</td>\n",
       "    </tr>\n",
       "    <tr>\n",
       "      <th>2</th>\n",
       "      <td>None</td>\n",
       "      <td>5</td>\n",
       "      <td>3.649635</td>\n",
       "    </tr>\n",
       "    <tr>\n",
       "      <th>3</th>\n",
       "      <td>Fury</td>\n",
       "      <td>4</td>\n",
       "      <td>2.919708</td>\n",
       "    </tr>\n",
       "    <tr>\n",
       "      <th>4</th>\n",
       "      <td>Blood Well</td>\n",
       "      <td>1</td>\n",
       "      <td>0.729927</td>\n",
       "    </tr>\n",
       "    <tr>\n",
       "      <th>5</th>\n",
       "      <td>Flow</td>\n",
       "      <td>1</td>\n",
       "      <td>0.729927</td>\n",
       "    </tr>\n",
       "    <tr>\n",
       "      <th>6</th>\n",
       "      <td>Ferocity</td>\n",
       "      <td>1</td>\n",
       "      <td>0.729927</td>\n",
       "    </tr>\n",
       "    <tr>\n",
       "      <th>7</th>\n",
       "      <td>Heat</td>\n",
       "      <td>1</td>\n",
       "      <td>0.729927</td>\n",
       "    </tr>\n",
       "    <tr>\n",
       "      <th>8</th>\n",
       "      <td>Rage</td>\n",
       "      <td>1</td>\n",
       "      <td>0.729927</td>\n",
       "    </tr>\n",
       "    <tr>\n",
       "      <th>9</th>\n",
       "      <td>Crimson Rush</td>\n",
       "      <td>1</td>\n",
       "      <td>0.729927</td>\n",
       "    </tr>\n",
       "    <tr>\n",
       "      <th>10</th>\n",
       "      <td>Shield</td>\n",
       "      <td>1</td>\n",
       "      <td>0.729927</td>\n",
       "    </tr>\n",
       "    <tr>\n",
       "      <th>11</th>\n",
       "      <td>Courage</td>\n",
       "      <td>1</td>\n",
       "      <td>0.729927</td>\n",
       "    </tr>\n",
       "  </tbody>\n",
       "</table>\n",
       "</div>"
      ],
      "text/plain": [
       "           index  partype    percent\n",
       "0           Mana      115  83.941606\n",
       "1         Energy        5   3.649635\n",
       "2           None        5   3.649635\n",
       "3           Fury        4   2.919708\n",
       "4     Blood Well        1   0.729927\n",
       "5           Flow        1   0.729927\n",
       "6       Ferocity        1   0.729927\n",
       "7           Heat        1   0.729927\n",
       "8           Rage        1   0.729927\n",
       "9   Crimson Rush        1   0.729927\n",
       "10        Shield        1   0.729927\n",
       "11       Courage        1   0.729927"
      ]
     },
     "execution_count": 190,
     "metadata": {},
     "output_type": "execute_result"
    }
   ],
   "source": [
    "graph"
   ]
  },
  {
   "cell_type": "code",
   "execution_count": 191,
   "metadata": {
    "collapsed": false
   },
   "outputs": [
    {
     "data": {
      "image/png": "[encoded data removed]",
      "text/plain": [
       "<matplotlib.figure.Figure at 0x11ae81d10>"
      ]
     },
     "metadata": {},
     "output_type": "display_data"
    }
   ],
   "source": [
    "sns.barplot(y = \"index\", x = \"partype\", data = graph, orient = \"h\")\n",
    "plt.title(\"Ranking of Partype\")\n",
    "plt.show()"
   ]
  },
  {
   "cell_type": "markdown",
   "metadata": {},
   "source": [
    "The most prevalent types were mana (84%), energy (4%), none (4%), and fury (3%). All other types only had one hero (< 1%)"
   ]
  },
  {
   "cell_type": "code",
   "execution_count": 192,
   "metadata": {
    "collapsed": false
   },
   "outputs": [],
   "source": [
    "df = pd.merge(df, df1, how = \"inner\", on = \"id\")"
   ]
  },
  {
   "cell_type": "code",
   "execution_count": 193,
   "metadata": {
    "collapsed": false
   },
   "outputs": [],
   "source": [
    "df2 = pd.read_sql_query(\"\"\"SELECT id, no_skins FROM skins\"\"\", conn)"
   ]
  },
  {
   "cell_type": "code",
   "execution_count": 194,
   "metadata": {
    "collapsed": false
   },
   "outputs": [
    {
     "data": {
      "text/plain": [
       "min        2.000000\n",
       "mean       6.671533\n",
       "median     7.000000\n",
       "max       11.000000\n",
       "Name: no_skins, dtype: float64"
      ]
     },
     "execution_count": 194,
     "metadata": {},
     "output_type": "execute_result"
    }
   ],
   "source": [
    "df2[\"no_skins\"].aggregate([\"min\",\"mean\",\"median\",\"max\"])"
   ]
  },
  {
   "cell_type": "code",
   "execution_count": 195,
   "metadata": {
    "collapsed": false
   },
   "outputs": [
    {
     "data": {
      "image/png": "[encoded data removed]",
      "text/plain": [
       "<matplotlib.figure.Figure at 0x11b6a2950>"
      ]
     },
     "metadata": {},
     "output_type": "display_data"
    }
   ],
   "source": [
    "sns.boxplot(y = \"no_skins\", data = df2)\n",
    "plt.ylim([0,12])\n",
    "plt.title(\"Distribution of No. of Skins\")\n",
    "plt.show()"
   ]
  },
  {
   "cell_type": "code",
   "execution_count": 196,
   "metadata": {
    "collapsed": false
   },
   "outputs": [],
   "source": [
    "df = pd.merge(df, df2, how = \"inner\", on = \"id\")"
   ]
  },
  {
   "cell_type": "code",
   "execution_count": 197,
   "metadata": {
    "collapsed": false
   },
   "outputs": [
    {
     "data": {
      "text/html": [
       "<div>\n",
       "<style>\n",
       "    .dataframe thead tr:only-child th {\n",
       "        text-align: right;\n",
       "    }\n",
       "\n",
       "    .dataframe thead th {\n",
       "        text-align: left;\n",
       "    }\n",
       "\n",
       "    .dataframe tbody tr th {\n",
       "        vertical-align: top;\n",
       "    }\n",
       "</style>\n",
       "<table border=\"1\" class=\"dataframe\">\n",
       "  <thead>\n",
       "    <tr style=\"text-align: right;\">\n",
       "      <th></th>\n",
       "      <th>title</th>\n",
       "      <th>id</th>\n",
       "      <th>name</th>\n",
       "      <th>difficulty</th>\n",
       "      <th>attack</th>\n",
       "      <th>defense</th>\n",
       "      <th>magic</th>\n",
       "      <th>partype</th>\n",
       "      <th>no_skins</th>\n",
       "    </tr>\n",
       "  </thead>\n",
       "  <tbody>\n",
       "    <tr>\n",
       "      <th>0</th>\n",
       "      <td>the Dark Child</td>\n",
       "      <td>1</td>\n",
       "      <td>Annie</td>\n",
       "      <td>6</td>\n",
       "      <td>2</td>\n",
       "      <td>3</td>\n",
       "      <td>10</td>\n",
       "      <td>Mana</td>\n",
       "      <td>11</td>\n",
       "    </tr>\n",
       "    <tr>\n",
       "      <th>1</th>\n",
       "      <td>The Judicator</td>\n",
       "      <td>10</td>\n",
       "      <td>Kayle</td>\n",
       "      <td>7</td>\n",
       "      <td>6</td>\n",
       "      <td>6</td>\n",
       "      <td>7</td>\n",
       "      <td>Mana</td>\n",
       "      <td>9</td>\n",
       "    </tr>\n",
       "  </tbody>\n",
       "</table>\n",
       "</div>"
      ],
      "text/plain": [
       "            title  id   name  difficulty  attack  defense  magic partype  \\\n",
       "0  the Dark Child   1  Annie           6       2        3     10    Mana   \n",
       "1   The Judicator  10  Kayle           7       6        6      7    Mana   \n",
       "\n",
       "   no_skins  \n",
       "0        11  \n",
       "1         9  "
      ]
     },
     "execution_count": 197,
     "metadata": {},
     "output_type": "execute_result"
    }
   ],
   "source": [
    "df.head(2)"
   ]
  },
  {
   "cell_type": "markdown",
   "metadata": {},
   "source": [
    "On average, each character has 7 skins. The no ranges from 2 to 11. "
   ]
  },
  {
   "cell_type": "code",
   "execution_count": 364,
   "metadata": {
    "collapsed": false
   },
   "outputs": [],
   "source": [
    "df3 = pd.read_sql_query(\"\"\"SELECT *\n",
    "                           FROM stats\"\"\", conn)"
   ]
  },
  {
   "cell_type": "code",
   "execution_count": 365,
   "metadata": {
    "collapsed": false
   },
   "outputs": [
    {
     "data": {
      "text/plain": [
       "['id',\n",
       " 'armorperlevel',\n",
       " 'attackdamage',\n",
       " 'mpperlevel',\n",
       " 'attackspeedoffset',\n",
       " 'mp',\n",
       " 'armor',\n",
       " 'hp',\n",
       " 'hpregenperlevel',\n",
       " 'attackspeedperlevel',\n",
       " 'attackrange',\n",
       " 'movespeed',\n",
       " 'attackdamageperlevel',\n",
       " 'mpregenperlevel',\n",
       " 'critperlevel',\n",
       " 'spellblockperlevel',\n",
       " 'crit',\n",
       " 'mpregen',\n",
       " 'spellblock',\n",
       " 'hpregen',\n",
       " 'hpperlevel']"
      ]
     },
     "execution_count": 365,
     "metadata": {},
     "output_type": "execute_result"
    }
   ],
   "source": [
    "list(df3)\n",
    "# starting stats: attack damage, mp, armor, hp, attack range, move speed, crit, mpregen, \n",
    "# spellblock, hpreg, attackspeed offset\n",
    "# leveling up stats: attackdamagerperlevel, mpperlevel, armorperlevel, hpperlevel, critperlevel, \n",
    "# mpregenperlevel, spellblockperlevel, hpregperlvel, attackspeedperlevel"
   ]
  },
  {
   "cell_type": "code",
   "execution_count": 217,
   "metadata": {
    "collapsed": false
   },
   "outputs": [
    {
     "data": {
      "text/html": [
       "<div>\n",
       "<style>\n",
       "    .dataframe thead tr:only-child th {\n",
       "        text-align: right;\n",
       "    }\n",
       "\n",
       "    .dataframe thead th {\n",
       "        text-align: left;\n",
       "    }\n",
       "\n",
       "    .dataframe tbody tr th {\n",
       "        vertical-align: top;\n",
       "    }\n",
       "</style>\n",
       "<table border=\"1\" class=\"dataframe\">\n",
       "  <thead>\n",
       "    <tr style=\"text-align: right;\">\n",
       "      <th></th>\n",
       "      <th>hp</th>\n",
       "      <th>hpperlevel</th>\n",
       "      <th>hpregen</th>\n",
       "      <th>hpregenperlevel</th>\n",
       "    </tr>\n",
       "  </thead>\n",
       "  <tbody>\n",
       "    <tr>\n",
       "      <th>min</th>\n",
       "      <td>340.000000</td>\n",
       "      <td>65.000000</td>\n",
       "      <td>2.50000</td>\n",
       "      <td>0.300000</td>\n",
       "    </tr>\n",
       "    <tr>\n",
       "      <th>median</th>\n",
       "      <td>550.000000</td>\n",
       "      <td>85.000000</td>\n",
       "      <td>6.92400</td>\n",
       "      <td>0.600000</td>\n",
       "    </tr>\n",
       "    <tr>\n",
       "      <th>mean</th>\n",
       "      <td>549.363796</td>\n",
       "      <td>84.337591</td>\n",
       "      <td>6.88762</td>\n",
       "      <td>0.656934</td>\n",
       "    </tr>\n",
       "    <tr>\n",
       "      <th>max</th>\n",
       "      <td>625.640000</td>\n",
       "      <td>106.000000</td>\n",
       "      <td>10.18000</td>\n",
       "      <td>1.750000</td>\n",
       "    </tr>\n",
       "  </tbody>\n",
       "</table>\n",
       "</div>"
      ],
      "text/plain": [
       "                hp  hpperlevel   hpregen  hpregenperlevel\n",
       "min     340.000000   65.000000   2.50000         0.300000\n",
       "median  550.000000   85.000000   6.92400         0.600000\n",
       "mean    549.363796   84.337591   6.88762         0.656934\n",
       "max     625.640000  106.000000  10.18000         1.750000"
      ]
     },
     "execution_count": 217,
     "metadata": {},
     "output_type": "execute_result"
    }
   ],
   "source": [
    "# HP - hp, hpperleevel, hpregen, hprenperlel\n",
    "df3[[\"hp\",\"hpperlevel\",\"hpregen\",\"hpregenperlevel\"]].aggregate([\"min\",\"median\",\"mean\",\"max\"])"
   ]
  },
  {
   "cell_type": "code",
   "execution_count": 268,
   "metadata": {
    "collapsed": false
   },
   "outputs": [
    {
     "data": {
      "image/png": "[encoded data removed]",
      "text/plain": [
       "<matplotlib.figure.Figure at 0x11676b090>"
      ]
     },
     "metadata": {},
     "output_type": "display_data"
    }
   ],
   "source": [
    "plt.subplot(2,2,1)\n",
    "plt.title(\"hp\")\n",
    "sns.violinplot(df3[[\"hp\"]],color = \"green\")\n",
    "plt.subplot(2,2,2)\n",
    "plt.title(\"hp increase per level\")\n",
    "sns.violinplot(df3[[\"hpperlevel\"]])\n",
    "plt.subplot(2,2,3)\n",
    "plt.title(\"hp regeneration per sec\")\n",
    "sns.violinplot(df3[[\"hpregen\"]], color = \"green\")\n",
    "plt.subplot(2,2,4)\n",
    "plt.title(\"hp regeneration increase per level\")\n",
    "sns.violinplot(df3[[\"hpregenperlevel\"]])\n",
    "plt.tight_layout()\n",
    "plt.show()"
   ]
  },
  {
   "cell_type": "code",
   "execution_count": 269,
   "metadata": {
    "collapsed": false
   },
   "outputs": [
    {
     "data": {
      "text/html": [
       "<div>\n",
       "<style>\n",
       "    .dataframe thead tr:only-child th {\n",
       "        text-align: right;\n",
       "    }\n",
       "\n",
       "    .dataframe thead th {\n",
       "        text-align: left;\n",
       "    }\n",
       "\n",
       "    .dataframe tbody tr th {\n",
       "        vertical-align: top;\n",
       "    }\n",
       "</style>\n",
       "<table border=\"1\" class=\"dataframe\">\n",
       "  <thead>\n",
       "    <tr style=\"text-align: right;\">\n",
       "      <th></th>\n",
       "      <th>hp</th>\n",
       "      <th>hpperlevel</th>\n",
       "      <th>hpregen</th>\n",
       "      <th>hpregenperlevel</th>\n",
       "    </tr>\n",
       "  </thead>\n",
       "  <tbody>\n",
       "    <tr>\n",
       "      <th>hp</th>\n",
       "      <td>1.000000</td>\n",
       "      <td>0.682190</td>\n",
       "      <td>0.552504</td>\n",
       "      <td>0.309702</td>\n",
       "    </tr>\n",
       "    <tr>\n",
       "      <th>hpperlevel</th>\n",
       "      <td>0.682190</td>\n",
       "      <td>1.000000</td>\n",
       "      <td>0.474542</td>\n",
       "      <td>0.221856</td>\n",
       "    </tr>\n",
       "    <tr>\n",
       "      <th>hpregen</th>\n",
       "      <td>0.552504</td>\n",
       "      <td>0.474542</td>\n",
       "      <td>1.000000</td>\n",
       "      <td>0.365545</td>\n",
       "    </tr>\n",
       "    <tr>\n",
       "      <th>hpregenperlevel</th>\n",
       "      <td>0.309702</td>\n",
       "      <td>0.221856</td>\n",
       "      <td>0.365545</td>\n",
       "      <td>1.000000</td>\n",
       "    </tr>\n",
       "  </tbody>\n",
       "</table>\n",
       "</div>"
      ],
      "text/plain": [
       "                       hp  hpperlevel   hpregen  hpregenperlevel\n",
       "hp               1.000000    0.682190  0.552504         0.309702\n",
       "hpperlevel       0.682190    1.000000  0.474542         0.221856\n",
       "hpregen          0.552504    0.474542  1.000000         0.365545\n",
       "hpregenperlevel  0.309702    0.221856  0.365545         1.000000"
      ]
     },
     "execution_count": 269,
     "metadata": {},
     "output_type": "execute_result"
    }
   ],
   "source": [
    "HP = df3[[\"hp\",\"hpperlevel\",\"hpregen\",\"hpregenperlevel\"]]\n",
    "HP.corr(method='pearson')"
   ]
  },
  {
   "cell_type": "code",
   "execution_count": 297,
   "metadata": {
    "collapsed": false
   },
   "outputs": [
    {
     "data": {
      "image/png": "[encoded data removed]",
      "text/plain": [
       "<matplotlib.figure.Figure at 0x11ad60650>"
      ]
     },
     "metadata": {},
     "output_type": "display_data"
    }
   ],
   "source": [
    "sns.heatmap(HP.corr(method='pearson'))\n",
    "plt.show()"
   ]
  },
  {
   "cell_type": "code",
   "execution_count": 295,
   "metadata": {
    "collapsed": false
   },
   "outputs": [],
   "source": [
    "def correlation_p_value(data):\n",
    "    a = [(x, y) for x in list(data) for y in list(data) if x != y]\n",
    "    compare = list()\n",
    "    for (x,y) in a:\n",
    "        if (x, y) not in compare and (y, x) not in compare:\n",
    "            compare.append((x, y))\n",
    "    for (x, y) in compare:\n",
    "        print x + \" and \" + y\n",
    "        print scipy.stats.pearsonr(data[x], data[y])\n",
    "        print \"=\"*50"
   ]
  },
  {
   "cell_type": "code",
   "execution_count": 296,
   "metadata": {
    "collapsed": false
   },
   "outputs": [
    {
     "name": "stdout",
     "output_type": "stream",
     "text": [
      "hp and hpperlevel\n",
      "(0.6821900765410025, 4.378891792773511e-20)\n",
      "==================================================\n",
      "hp and hpregen\n",
      "(0.5525044891600337, 2.5683036444474798e-12)\n",
      "==================================================\n",
      "hp and hpregenperlevel\n",
      "(0.30970170339984615, 0.00023075828682034337)\n",
      "==================================================\n",
      "hpperlevel and hpregen\n",
      "(0.47454247987692116, 4.6778491164153352e-09)\n",
      "==================================================\n",
      "hpperlevel and hpregenperlevel\n",
      "(0.2218561078212575, 0.0091734961141551902)\n",
      "==================================================\n",
      "hpregen and hpregenperlevel\n",
      "(0.36554459795822664, 1.1211707508660931e-05)\n",
      "==================================================\n"
     ]
    }
   ],
   "source": [
    "correlation_p_value(HP)"
   ]
  },
  {
   "cell_type": "markdown",
   "metadata": {
    "collapsed": false
   },
   "source": [
    "All HP stats are positively and significantly correlated with each other. The range of starting HP varies widely (350 - 625). Majority of the champions have a total HP between 500 to 600 with a mean of 550. per level increase in HP also varied from 60 to 100 with a mean of 85. "
   ]
  },
  {
   "cell_type": "code",
   "execution_count": 300,
   "metadata": {
    "collapsed": false
   },
   "outputs": [
    {
     "data": {
      "text/html": [
       "<div>\n",
       "<style>\n",
       "    .dataframe thead tr:only-child th {\n",
       "        text-align: right;\n",
       "    }\n",
       "\n",
       "    .dataframe thead th {\n",
       "        text-align: left;\n",
       "    }\n",
       "\n",
       "    .dataframe tbody tr th {\n",
       "        vertical-align: top;\n",
       "    }\n",
       "</style>\n",
       "<table border=\"1\" class=\"dataframe\">\n",
       "  <thead>\n",
       "    <tr style=\"text-align: right;\">\n",
       "      <th></th>\n",
       "      <th>mp</th>\n",
       "      <th>mpperlevel</th>\n",
       "      <th>mpregen</th>\n",
       "      <th>mpregenperlevel</th>\n",
       "    </tr>\n",
       "  </thead>\n",
       "  <tbody>\n",
       "    <tr>\n",
       "      <th>min</th>\n",
       "      <td>0.000000</td>\n",
       "      <td>0.000000</td>\n",
       "      <td>0.000000</td>\n",
       "      <td>0.000000</td>\n",
       "    </tr>\n",
       "    <tr>\n",
       "      <th>median</th>\n",
       "      <td>307.200000</td>\n",
       "      <td>40.000000</td>\n",
       "      <td>7.000000</td>\n",
       "      <td>0.650000</td>\n",
       "    </tr>\n",
       "    <tr>\n",
       "      <th>mean</th>\n",
       "      <td>286.983212</td>\n",
       "      <td>36.748175</td>\n",
       "      <td>7.935752</td>\n",
       "      <td>0.557482</td>\n",
       "    </tr>\n",
       "    <tr>\n",
       "      <th>max</th>\n",
       "      <td>450.000000</td>\n",
       "      <td>67.000000</td>\n",
       "      <td>50.000000</td>\n",
       "      <td>1.000000</td>\n",
       "    </tr>\n",
       "  </tbody>\n",
       "</table>\n",
       "</div>"
      ],
      "text/plain": [
       "                mp  mpperlevel    mpregen  mpregenperlevel\n",
       "min       0.000000    0.000000   0.000000         0.000000\n",
       "median  307.200000   40.000000   7.000000         0.650000\n",
       "mean    286.983212   36.748175   7.935752         0.557482\n",
       "max     450.000000   67.000000  50.000000         1.000000"
      ]
     },
     "execution_count": 300,
     "metadata": {},
     "output_type": "execute_result"
    }
   ],
   "source": [
    "MP = df3[[\"mp\",\"mpperlevel\",\"mpregen\",\"mpregenperlevel\"]]\n",
    "MP.aggregate([\"min\",\"median\",\"mean\",\"max\"])"
   ]
  },
  {
   "cell_type": "code",
   "execution_count": 302,
   "metadata": {
    "collapsed": false
   },
   "outputs": [
    {
     "data": {
      "text/plain": [
       "(6, 21)"
      ]
     },
     "execution_count": 302,
     "metadata": {},
     "output_type": "execute_result"
    }
   ],
   "source": [
    "df3[df3[\"mp\"]==0].shape\n",
    "# 6 champion with a 0 for MP"
   ]
  },
  {
   "cell_type": "code",
   "execution_count": 306,
   "metadata": {
    "collapsed": false
   },
   "outputs": [
    {
     "name": "stderr",
     "output_type": "stream",
     "text": [
      "/Users/jasonchiu0803/anaconda2/lib/python2.7/site-packages/seaborn/categorical.py:2171: UserWarning: The boxplot API has been changed. Attempting to adjust your arguments for the new API (which might not work). Please update your code. See the version 0.6 release notes for more info.\n",
      "  warnings.warn(msg, UserWarning)\n"
     ]
    },
    {
     "data": {
      "image/png": "[encoded data removed]",
      "text/plain": [
       "<matplotlib.figure.Figure at 0x116339510>"
      ]
     },
     "metadata": {},
     "output_type": "display_data"
    }
   ],
   "source": [
    "plt.subplot(2,2,1)\n",
    "plt.title(\"mp\")\n",
    "sns.boxplot(MP[[\"mp\"]],color = \"green\")\n",
    "plt.subplot(2,2,2)\n",
    "plt.title(\"mp increase per level\")\n",
    "sns.boxplot(MP[[\"mpperlevel\"]])\n",
    "plt.subplot(2,2,3)\n",
    "plt.title(\"mp regeneration per sec\")\n",
    "sns.boxplot(MP[[\"mpregen\"]], color = \"green\")\n",
    "plt.subplot(2,2,4)\n",
    "plt.title(\"mp regeneration increase per level\")\n",
    "sns.boxplot(MP[[\"mpregenperlevel\"]])\n",
    "plt.tight_layout()\n",
    "plt.show()"
   ]
  },
  {
   "cell_type": "code",
   "execution_count": 307,
   "metadata": {
    "collapsed": false
   },
   "outputs": [
    {
     "data": {
      "text/html": [
       "<div>\n",
       "<style>\n",
       "    .dataframe thead tr:only-child th {\n",
       "        text-align: right;\n",
       "    }\n",
       "\n",
       "    .dataframe thead th {\n",
       "        text-align: left;\n",
       "    }\n",
       "\n",
       "    .dataframe tbody tr th {\n",
       "        vertical-align: top;\n",
       "    }\n",
       "</style>\n",
       "<table border=\"1\" class=\"dataframe\">\n",
       "  <thead>\n",
       "    <tr style=\"text-align: right;\">\n",
       "      <th></th>\n",
       "      <th>mp</th>\n",
       "      <th>mpperlevel</th>\n",
       "      <th>mpregen</th>\n",
       "      <th>mpregenperlevel</th>\n",
       "    </tr>\n",
       "  </thead>\n",
       "  <tbody>\n",
       "    <tr>\n",
       "      <th>54</th>\n",
       "      <td>200.0</td>\n",
       "      <td>0.0</td>\n",
       "      <td>50.0</td>\n",
       "      <td>0.0</td>\n",
       "    </tr>\n",
       "    <tr>\n",
       "      <th>109</th>\n",
       "      <td>200.0</td>\n",
       "      <td>0.0</td>\n",
       "      <td>50.0</td>\n",
       "      <td>0.0</td>\n",
       "    </tr>\n",
       "    <tr>\n",
       "      <th>126</th>\n",
       "      <td>200.0</td>\n",
       "      <td>0.0</td>\n",
       "      <td>50.0</td>\n",
       "      <td>0.0</td>\n",
       "    </tr>\n",
       "    <tr>\n",
       "      <th>127</th>\n",
       "      <td>200.0</td>\n",
       "      <td>0.0</td>\n",
       "      <td>50.0</td>\n",
       "      <td>0.0</td>\n",
       "    </tr>\n",
       "    <tr>\n",
       "      <th>135</th>\n",
       "      <td>400.0</td>\n",
       "      <td>0.0</td>\n",
       "      <td>50.0</td>\n",
       "      <td>0.0</td>\n",
       "    </tr>\n",
       "  </tbody>\n",
       "</table>\n",
       "</div>"
      ],
      "text/plain": [
       "        mp  mpperlevel  mpregen  mpregenperlevel\n",
       "54   200.0         0.0     50.0              0.0\n",
       "109  200.0         0.0     50.0              0.0\n",
       "126  200.0         0.0     50.0              0.0\n",
       "127  200.0         0.0     50.0              0.0\n",
       "135  400.0         0.0     50.0              0.0"
      ]
     },
     "execution_count": 307,
     "metadata": {},
     "output_type": "execute_result"
    }
   ],
   "source": [
    "MP[MP[\"mpregen\"]>30]"
   ]
  },
  {
   "cell_type": "code",
   "execution_count": 308,
   "metadata": {
    "collapsed": false
   },
   "outputs": [
    {
     "data": {
      "text/html": [
       "<div>\n",
       "<style>\n",
       "    .dataframe thead tr:only-child th {\n",
       "        text-align: right;\n",
       "    }\n",
       "\n",
       "    .dataframe thead th {\n",
       "        text-align: left;\n",
       "    }\n",
       "\n",
       "    .dataframe tbody tr th {\n",
       "        vertical-align: top;\n",
       "    }\n",
       "</style>\n",
       "<table border=\"1\" class=\"dataframe\">\n",
       "  <thead>\n",
       "    <tr style=\"text-align: right;\">\n",
       "      <th></th>\n",
       "      <th>mp</th>\n",
       "      <th>mpperlevel</th>\n",
       "      <th>mpregen</th>\n",
       "      <th>mpregenperlevel</th>\n",
       "    </tr>\n",
       "  </thead>\n",
       "  <tbody>\n",
       "    <tr>\n",
       "      <th>mp</th>\n",
       "      <td>1.000000</td>\n",
       "      <td>0.832441</td>\n",
       "      <td>0.161619</td>\n",
       "      <td>0.786493</td>\n",
       "    </tr>\n",
       "    <tr>\n",
       "      <th>mpperlevel</th>\n",
       "      <td>0.832441</td>\n",
       "      <td>1.000000</td>\n",
       "      <td>-0.157559</td>\n",
       "      <td>0.848782</td>\n",
       "    </tr>\n",
       "    <tr>\n",
       "      <th>mpregen</th>\n",
       "      <td>0.161619</td>\n",
       "      <td>-0.157559</td>\n",
       "      <td>1.000000</td>\n",
       "      <td>-0.170274</td>\n",
       "    </tr>\n",
       "    <tr>\n",
       "      <th>mpregenperlevel</th>\n",
       "      <td>0.786493</td>\n",
       "      <td>0.848782</td>\n",
       "      <td>-0.170274</td>\n",
       "      <td>1.000000</td>\n",
       "    </tr>\n",
       "  </tbody>\n",
       "</table>\n",
       "</div>"
      ],
      "text/plain": [
       "                       mp  mpperlevel   mpregen  mpregenperlevel\n",
       "mp               1.000000    0.832441  0.161619         0.786493\n",
       "mpperlevel       0.832441    1.000000 -0.157559         0.848782\n",
       "mpregen          0.161619   -0.157559  1.000000        -0.170274\n",
       "mpregenperlevel  0.786493    0.848782 -0.170274         1.000000"
      ]
     },
     "execution_count": 308,
     "metadata": {},
     "output_type": "execute_result"
    }
   ],
   "source": [
    "MP.corr(method='pearson')"
   ]
  },
  {
   "cell_type": "code",
   "execution_count": 311,
   "metadata": {
    "collapsed": false
   },
   "outputs": [
    {
     "data": {
      "image/png": "[encoded data removed]",
      "text/plain": [
       "<matplotlib.figure.Figure at 0x11b771f10>"
      ]
     },
     "metadata": {},
     "output_type": "display_data"
    }
   ],
   "source": [
    "sns.heatmap(MP.corr(method='pearson'))\n",
    "plt.show()"
   ]
  },
  {
   "cell_type": "code",
   "execution_count": 323,
   "metadata": {
    "collapsed": false
   },
   "outputs": [
    {
     "name": "stdout",
     "output_type": "stream",
     "text": [
      "mp and mpperlevel\n",
      "(0.83244079969293261, 1.9957337955104975e-36)\n",
      "==================================================\n",
      "mp and mpregen\n",
      "(0.16161857538456953, 0.059188872366053365)\n",
      "==================================================\n",
      "mp and mpregenperlevel\n",
      "(0.78649310186164778, 4.8276429559896768e-30)\n",
      "==================================================\n",
      "mpperlevel and mpregen\n",
      "(-0.15755934144964018, 0.065946083473565384)\n",
      "==================================================\n",
      "mpperlevel and mpregenperlevel\n",
      "(0.84878220521055814, 3.4989281577948175e-39)\n",
      "==================================================\n",
      "mpregen and mpregenperlevel\n",
      "(-0.17027372703906785, 0.046668819804868755)\n",
      "==================================================\n"
     ]
    }
   ],
   "source": [
    "correlation_p_value(MP)"
   ]
  },
  {
   "cell_type": "markdown",
   "metadata": {
    "collapsed": false
   },
   "source": [
    "MP has a very different distribution from HP - the distribution varied widely. Several champions (6) had zero mp and therefore, 0 for regeneration. On the other spectra, there were 5 heros that were able to regenerate 50 mp per second. All variables had positive correaltion with each other with the exception of mpregen and mp increase per level and mpregen and mp regeneration increase per level."
   ]
  },
  {
   "cell_type": "code",
   "execution_count": 325,
   "metadata": {
    "collapsed": false
   },
   "outputs": [
    {
     "name": "stdout",
     "output_type": "stream",
     "text": [
      "0.0    137\n",
      "Name: crit, dtype: int64\n",
      "0.0    137\n",
      "Name: critperlevel, dtype: int64\n"
     ]
    }
   ],
   "source": [
    "# both critical and critical per level only have a value of zero - This analysis will ignore these two variables. \n",
    "print(df3.crit.value_counts())\n",
    "print(df3.critperlevel.value_counts())"
   ]
  },
  {
   "cell_type": "code",
   "execution_count": 328,
   "metadata": {
    "collapsed": false
   },
   "outputs": [],
   "source": [
    "attack  = df3[[\"attackdamage\", \"attackdamageperlevel\", \"attackrange\", \n",
    "               \"attackspeedoffset\",\"attackspeedperlevel\",\"movespeed\"]]"
   ]
  },
  {
   "cell_type": "code",
   "execution_count": 340,
   "metadata": {
    "collapsed": false
   },
   "outputs": [
    {
     "data": {
      "image/png": "[encoded data removed]",
      "text/plain": [
       "<matplotlib.figure.Figure at 0x111f84710>"
      ]
     },
     "metadata": {},
     "output_type": "display_data"
    }
   ],
   "source": [
    "plt.subplot(3,2,1)\n",
    "plt.title(\"attack damage\")\n",
    "sns.boxplot(attack[[\"attackdamage\"]],color = \"green\")\n",
    "plt.subplot(3,2,2)\n",
    "plt.title(\"attack damage increase per level\")\n",
    "sns.boxplot(attack[[\"attackdamageperlevel\"]])\n",
    "plt.subplot(3,2,3)\n",
    "plt.title(\"attack speed offset\")\n",
    "sns.boxplot(attack[[\"attackspeedoffset\"]], color = \"green\")\n",
    "plt.subplot(3,2,4)\n",
    "plt.title(\"attack speed offset decrease per level\")\n",
    "sns.boxplot(attack[[\"attackspeedperlevel\"]])\n",
    "plt.subplot(3,2,5)\n",
    "plt.title(\"attack range\")\n",
    "sns.boxplot(attack[[\"attackrange\"]])\n",
    "plt.ylim([0, 700])\n",
    "plt.subplot(3,2,6)\n",
    "plt.title(\"move speed\")\n",
    "sns.boxplot(attack[[\"movespeed\"]])\n",
    "plt.tight_layout()\n",
    "plt.show()"
   ]
  },
  {
   "cell_type": "code",
   "execution_count": 341,
   "metadata": {
    "collapsed": false
   },
   "outputs": [
    {
     "data": {
      "text/html": [
       "<div>\n",
       "<style>\n",
       "    .dataframe thead tr:only-child th {\n",
       "        text-align: right;\n",
       "    }\n",
       "\n",
       "    .dataframe thead th {\n",
       "        text-align: left;\n",
       "    }\n",
       "\n",
       "    .dataframe tbody tr th {\n",
       "        vertical-align: top;\n",
       "    }\n",
       "</style>\n",
       "<table border=\"1\" class=\"dataframe\">\n",
       "  <thead>\n",
       "    <tr style=\"text-align: right;\">\n",
       "      <th></th>\n",
       "      <th>attackdamage</th>\n",
       "      <th>attackdamageperlevel</th>\n",
       "      <th>attackrange</th>\n",
       "      <th>attackspeedoffset</th>\n",
       "      <th>attackspeedperlevel</th>\n",
       "      <th>movespeed</th>\n",
       "    </tr>\n",
       "  </thead>\n",
       "  <tbody>\n",
       "    <tr>\n",
       "      <th>min</th>\n",
       "      <td>40.368000</td>\n",
       "      <td>1.000000</td>\n",
       "      <td>125.000000</td>\n",
       "      <td>-0.100000</td>\n",
       "      <td>0.000000</td>\n",
       "      <td>325.000000</td>\n",
       "    </tr>\n",
       "    <tr>\n",
       "      <th>median</th>\n",
       "      <td>56.000000</td>\n",
       "      <td>3.141600</td>\n",
       "      <td>175.000000</td>\n",
       "      <td>0.000000</td>\n",
       "      <td>2.500000</td>\n",
       "      <td>335.000000</td>\n",
       "    </tr>\n",
       "    <tr>\n",
       "      <th>mean</th>\n",
       "      <td>55.967004</td>\n",
       "      <td>3.150961</td>\n",
       "      <td>316.824818</td>\n",
       "      <td>-0.018262</td>\n",
       "      <td>2.449321</td>\n",
       "      <td>336.445255</td>\n",
       "    </tr>\n",
       "    <tr>\n",
       "      <th>max</th>\n",
       "      <td>63.540000</td>\n",
       "      <td>5.000000</td>\n",
       "      <td>650.000000</td>\n",
       "      <td>0.300000</td>\n",
       "      <td>6.000000</td>\n",
       "      <td>355.000000</td>\n",
       "    </tr>\n",
       "  </tbody>\n",
       "</table>\n",
       "</div>"
      ],
      "text/plain": [
       "        attackdamage  attackdamageperlevel  attackrange  attackspeedoffset  \\\n",
       "min        40.368000              1.000000   125.000000          -0.100000   \n",
       "median     56.000000              3.141600   175.000000           0.000000   \n",
       "mean       55.967004              3.150961   316.824818          -0.018262   \n",
       "max        63.540000              5.000000   650.000000           0.300000   \n",
       "\n",
       "        attackspeedperlevel   movespeed  \n",
       "min                0.000000  325.000000  \n",
       "median             2.500000  335.000000  \n",
       "mean               2.449321  336.445255  \n",
       "max                6.000000  355.000000  "
      ]
     },
     "execution_count": 341,
     "metadata": {},
     "output_type": "execute_result"
    }
   ],
   "source": [
    "attack.aggregate([\"min\",\"median\",\"mean\",\"max\"])"
   ]
  },
  {
   "cell_type": "code",
   "execution_count": 334,
   "metadata": {
    "collapsed": false
   },
   "outputs": [
    {
     "data": {
      "text/html": [
       "<div>\n",
       "<style>\n",
       "    .dataframe thead tr:only-child th {\n",
       "        text-align: right;\n",
       "    }\n",
       "\n",
       "    .dataframe thead th {\n",
       "        text-align: left;\n",
       "    }\n",
       "\n",
       "    .dataframe tbody tr th {\n",
       "        vertical-align: top;\n",
       "    }\n",
       "</style>\n",
       "<table border=\"1\" class=\"dataframe\">\n",
       "  <thead>\n",
       "    <tr style=\"text-align: right;\">\n",
       "      <th></th>\n",
       "      <th>attackdamage</th>\n",
       "      <th>attackdamageperlevel</th>\n",
       "      <th>attackrange</th>\n",
       "      <th>attackspeedoffset</th>\n",
       "      <th>attackspeedperlevel</th>\n",
       "      <th>movespeed</th>\n",
       "    </tr>\n",
       "  </thead>\n",
       "  <tbody>\n",
       "    <tr>\n",
       "      <th>attackdamage</th>\n",
       "      <td>1.000000</td>\n",
       "      <td>0.301147</td>\n",
       "      <td>-0.558115</td>\n",
       "      <td>-0.025732</td>\n",
       "      <td>-0.016763</td>\n",
       "      <td>0.412977</td>\n",
       "    </tr>\n",
       "    <tr>\n",
       "      <th>attackdamageperlevel</th>\n",
       "      <td>0.301147</td>\n",
       "      <td>1.000000</td>\n",
       "      <td>-0.462438</td>\n",
       "      <td>0.005369</td>\n",
       "      <td>-0.200334</td>\n",
       "      <td>0.268104</td>\n",
       "    </tr>\n",
       "    <tr>\n",
       "      <th>attackrange</th>\n",
       "      <td>-0.558115</td>\n",
       "      <td>-0.462438</td>\n",
       "      <td>1.000000</td>\n",
       "      <td>0.141949</td>\n",
       "      <td>-0.260044</td>\n",
       "      <td>-0.628851</td>\n",
       "    </tr>\n",
       "    <tr>\n",
       "      <th>attackspeedoffset</th>\n",
       "      <td>-0.025732</td>\n",
       "      <td>0.005369</td>\n",
       "      <td>0.141949</td>\n",
       "      <td>1.000000</td>\n",
       "      <td>-0.202176</td>\n",
       "      <td>-0.175860</td>\n",
       "    </tr>\n",
       "    <tr>\n",
       "      <th>attackspeedperlevel</th>\n",
       "      <td>-0.016763</td>\n",
       "      <td>-0.200334</td>\n",
       "      <td>-0.260044</td>\n",
       "      <td>-0.202176</td>\n",
       "      <td>1.000000</td>\n",
       "      <td>0.158608</td>\n",
       "    </tr>\n",
       "    <tr>\n",
       "      <th>movespeed</th>\n",
       "      <td>0.412977</td>\n",
       "      <td>0.268104</td>\n",
       "      <td>-0.628851</td>\n",
       "      <td>-0.175860</td>\n",
       "      <td>0.158608</td>\n",
       "      <td>1.000000</td>\n",
       "    </tr>\n",
       "  </tbody>\n",
       "</table>\n",
       "</div>"
      ],
      "text/plain": [
       "                      attackdamage  attackdamageperlevel  attackrange  \\\n",
       "attackdamage              1.000000              0.301147    -0.558115   \n",
       "attackdamageperlevel      0.301147              1.000000    -0.462438   \n",
       "attackrange              -0.558115             -0.462438     1.000000   \n",
       "attackspeedoffset        -0.025732              0.005369     0.141949   \n",
       "attackspeedperlevel      -0.016763             -0.200334    -0.260044   \n",
       "movespeed                 0.412977              0.268104    -0.628851   \n",
       "\n",
       "                      attackspeedoffset  attackspeedperlevel  movespeed  \n",
       "attackdamage                  -0.025732            -0.016763   0.412977  \n",
       "attackdamageperlevel           0.005369            -0.200334   0.268104  \n",
       "attackrange                    0.141949            -0.260044  -0.628851  \n",
       "attackspeedoffset              1.000000            -0.202176  -0.175860  \n",
       "attackspeedperlevel           -0.202176             1.000000   0.158608  \n",
       "movespeed                     -0.175860             0.158608   1.000000  "
      ]
     },
     "execution_count": 334,
     "metadata": {},
     "output_type": "execute_result"
    }
   ],
   "source": [
    "attack.corr()"
   ]
  },
  {
   "cell_type": "code",
   "execution_count": 336,
   "metadata": {
    "collapsed": false
   },
   "outputs": [
    {
     "data": {
      "image/png": "[encoded data removed]",
      "text/plain": [
       "<matplotlib.figure.Figure at 0x11b661a90>"
      ]
     },
     "metadata": {},
     "output_type": "display_data"
    }
   ],
   "source": [
    "sns.heatmap(attack.corr())\n",
    "plt.show()"
   ]
  },
  {
   "cell_type": "code",
   "execution_count": 337,
   "metadata": {
    "collapsed": false
   },
   "outputs": [
    {
     "name": "stdout",
     "output_type": "stream",
     "text": [
      "attackdamage and attackdamageperlevel\n",
      "(0.30114691388146519, 0.0003490001825875625)\n",
      "==================================================\n",
      "attackdamage and attackrange\n",
      "(-0.55811529286129846, 1.384600434258771e-12)\n",
      "==================================================\n",
      "attackdamage and attackspeedoffset\n",
      "(-0.025732408717905282, 0.76533694103215144)\n",
      "==================================================\n",
      "attackdamage and attackspeedperlevel\n",
      "(-0.016762956363480012, 0.84584603218588739)\n",
      "==================================================\n",
      "attackdamage and movespeed\n",
      "(0.41297728836492781, 5.2980458620349935e-07)\n",
      "==================================================\n",
      "attackdamageperlevel and attackrange\n",
      "(-0.46243786114712915, 1.27822647917103e-08)\n",
      "==================================================\n",
      "attackdamageperlevel and attackspeedoffset\n",
      "(0.0053691895967236686, 0.95034831544728249)\n",
      "==================================================\n",
      "attackdamageperlevel and attackspeedperlevel\n",
      "(-0.20033365592887684, 0.018914731629054153)\n",
      "==================================================\n",
      "attackdamageperlevel and movespeed\n",
      "(0.26810420428443615, 0.0015374309929564931)\n",
      "==================================================\n",
      "attackrange and attackspeedoffset\n",
      "(0.1419487495761502, 0.0979988168010196)\n",
      "==================================================\n",
      "attackrange and attackspeedperlevel\n",
      "(-0.260044425171092, 0.0021489966565464507)\n",
      "==================================================\n",
      "attackrange and movespeed\n",
      "(-0.62885146945954951, 1.9018399085077484e-16)\n",
      "==================================================\n",
      "attackspeedoffset and attackspeedperlevel\n",
      "(-0.20217591423632578, 0.017824351585694093)\n",
      "==================================================\n",
      "attackspeedoffset and movespeed\n",
      "(-0.17585989066644478, 0.039823435067378246)\n",
      "==================================================\n",
      "attackspeedperlevel and movespeed\n",
      "(0.15860830312017393, 0.06414241289223592)\n",
      "==================================================\n"
     ]
    }
   ],
   "source": [
    "correlation_p_value(attack)"
   ]
  },
  {
   "cell_type": "markdown",
   "metadata": {
    "collapsed": true
   },
   "source": [
    "attack damage was mildly positively associated with movespeed, and negatively associated range. It has close to no assocaitoin with offset speed. offset speed has almost no correlation with other variables. attack range is negatively assocaited with movement speed. Attack damage had a range of 20, and movespeed had a range of 30. attack range varied greatly among champions. "
   ]
  },
  {
   "cell_type": "code",
   "execution_count": 339,
   "metadata": {
    "collapsed": false
   },
   "outputs": [],
   "source": [
    "defense = df3[[\"armor\",\"armorperlevel\",\"spellblock\",\"spellblockperlevel\"]]"
   ]
  },
  {
   "cell_type": "code",
   "execution_count": 345,
   "metadata": {
    "collapsed": false
   },
   "outputs": [
    {
     "data": {
      "text/html": [
       "<div>\n",
       "<style>\n",
       "    .dataframe thead tr:only-child th {\n",
       "        text-align: right;\n",
       "    }\n",
       "\n",
       "    .dataframe thead th {\n",
       "        text-align: left;\n",
       "    }\n",
       "\n",
       "    .dataframe tbody tr th {\n",
       "        vertical-align: top;\n",
       "    }\n",
       "</style>\n",
       "<table border=\"1\" class=\"dataframe\">\n",
       "  <thead>\n",
       "    <tr style=\"text-align: right;\">\n",
       "      <th></th>\n",
       "      <th>armor</th>\n",
       "      <th>armorperlevel</th>\n",
       "      <th>spellblock</th>\n",
       "      <th>spellblockperlevel</th>\n",
       "    </tr>\n",
       "  </thead>\n",
       "  <tbody>\n",
       "    <tr>\n",
       "      <th>armor</th>\n",
       "      <td>1.000000</td>\n",
       "      <td>0.287071</td>\n",
       "      <td>0.704324</td>\n",
       "      <td>0.705152</td>\n",
       "    </tr>\n",
       "    <tr>\n",
       "      <th>armorperlevel</th>\n",
       "      <td>0.287071</td>\n",
       "      <td>1.000000</td>\n",
       "      <td>0.151986</td>\n",
       "      <td>0.151618</td>\n",
       "    </tr>\n",
       "    <tr>\n",
       "      <th>spellblock</th>\n",
       "      <td>0.704324</td>\n",
       "      <td>0.151986</td>\n",
       "      <td>1.000000</td>\n",
       "      <td>0.999845</td>\n",
       "    </tr>\n",
       "    <tr>\n",
       "      <th>spellblockperlevel</th>\n",
       "      <td>0.705152</td>\n",
       "      <td>0.151618</td>\n",
       "      <td>0.999845</td>\n",
       "      <td>1.000000</td>\n",
       "    </tr>\n",
       "  </tbody>\n",
       "</table>\n",
       "</div>"
      ],
      "text/plain": [
       "                       armor  armorperlevel  spellblock  spellblockperlevel\n",
       "armor               1.000000       0.287071    0.704324            0.705152\n",
       "armorperlevel       0.287071       1.000000    0.151986            0.151618\n",
       "spellblock          0.704324       0.151986    1.000000            0.999845\n",
       "spellblockperlevel  0.705152       0.151618    0.999845            1.000000"
      ]
     },
     "execution_count": 345,
     "metadata": {},
     "output_type": "execute_result"
    }
   ],
   "source": [
    "defense.corr()"
   ]
  },
  {
   "cell_type": "code",
   "execution_count": 348,
   "metadata": {
    "collapsed": false
   },
   "outputs": [
    {
     "data": {
      "image/png": "[encoded data removed]",
      "text/plain": [
       "<matplotlib.figure.Figure at 0x116b79290>"
      ]
     },
     "metadata": {},
     "output_type": "display_data"
    }
   ],
   "source": [
    "sns.heatmap(defense.corr())\n",
    "plt.show()\n",
    "# armor is very positively correlated with spellblock as well as spellblockperlevel\n",
    "# spellblock and spellblockperlevel had an almost 1 correlation coefficient"
   ]
  },
  {
   "cell_type": "code",
   "execution_count": 349,
   "metadata": {
    "collapsed": false
   },
   "outputs": [
    {
     "data": {
      "image/png": "[encoded data removed]",
      "text/plain": [
       "<matplotlib.figure.Figure at 0x1128a3b10>"
      ]
     },
     "metadata": {},
     "output_type": "display_data"
    }
   ],
   "source": [
    "plt.subplot(2,2,1)\n",
    "plt.title(\"armor\")\n",
    "sns.boxplot(defense[[\"armor\"]],color = \"green\")\n",
    "plt.subplot(2,2,2)\n",
    "plt.title(\"armor increase per level\")\n",
    "sns.boxplot(defense[[\"armorperlevel\"]])\n",
    "plt.subplot(2,2,3)\n",
    "plt.title(\"spellblock\")\n",
    "sns.boxplot(defense[[\"spellblock\"]], color = \"green\")\n",
    "plt.subplot(2,2,4)\n",
    "plt.title(\"spellblockperlevel\")\n",
    "sns.boxplot(defense[[\"spellblockperlevel\"]])\n",
    "plt.tight_layout()\n",
    "plt.show()\n",
    "# while the armor starting stats varied widely, most of the armor increase were around 3 to 4.5 per level. \n",
    "# spellblock were pretty and increase per level are pretty consistent across all champions."
   ]
  },
  {
   "cell_type": "code",
   "execution_count": 371,
   "metadata": {
    "collapsed": true
   },
   "outputs": [],
   "source": [
    "starting_stats = df3[[\"attackdamage\",\"attackrange\",\"movespeed\" ,\"mp\", \"hp\",\"armor\", \"spellblock\", \"attackspeedoffset\"]]"
   ]
  },
  {
   "cell_type": "code",
   "execution_count": 372,
   "metadata": {
    "collapsed": false
   },
   "outputs": [
    {
     "data": {
      "text/html": [
       "<div>\n",
       "<style>\n",
       "    .dataframe thead tr:only-child th {\n",
       "        text-align: right;\n",
       "    }\n",
       "\n",
       "    .dataframe thead th {\n",
       "        text-align: left;\n",
       "    }\n",
       "\n",
       "    .dataframe tbody tr th {\n",
       "        vertical-align: top;\n",
       "    }\n",
       "</style>\n",
       "<table border=\"1\" class=\"dataframe\">\n",
       "  <thead>\n",
       "    <tr style=\"text-align: right;\">\n",
       "      <th></th>\n",
       "      <th>attackdamage</th>\n",
       "      <th>attackrange</th>\n",
       "      <th>movespeed</th>\n",
       "      <th>mp</th>\n",
       "      <th>hp</th>\n",
       "      <th>armor</th>\n",
       "      <th>spellblock</th>\n",
       "      <th>attackspeedoffset</th>\n",
       "    </tr>\n",
       "  </thead>\n",
       "  <tbody>\n",
       "    <tr>\n",
       "      <th>attackdamage</th>\n",
       "      <td>1.000000</td>\n",
       "      <td>-0.558115</td>\n",
       "      <td>0.412977</td>\n",
       "      <td>-0.289434</td>\n",
       "      <td>0.460532</td>\n",
       "      <td>0.474346</td>\n",
       "      <td>0.588422</td>\n",
       "      <td>-0.025732</td>\n",
       "    </tr>\n",
       "    <tr>\n",
       "      <th>attackrange</th>\n",
       "      <td>-0.558115</td>\n",
       "      <td>1.000000</td>\n",
       "      <td>-0.628851</td>\n",
       "      <td>0.348937</td>\n",
       "      <td>-0.664105</td>\n",
       "      <td>-0.696737</td>\n",
       "      <td>-0.912377</td>\n",
       "      <td>0.141949</td>\n",
       "    </tr>\n",
       "    <tr>\n",
       "      <th>movespeed</th>\n",
       "      <td>0.412977</td>\n",
       "      <td>-0.628851</td>\n",
       "      <td>1.000000</td>\n",
       "      <td>-0.248336</td>\n",
       "      <td>0.410850</td>\n",
       "      <td>0.469727</td>\n",
       "      <td>0.601134</td>\n",
       "      <td>-0.175860</td>\n",
       "    </tr>\n",
       "    <tr>\n",
       "      <th>mp</th>\n",
       "      <td>-0.289434</td>\n",
       "      <td>0.348937</td>\n",
       "      <td>-0.248336</td>\n",
       "      <td>1.000000</td>\n",
       "      <td>-0.226981</td>\n",
       "      <td>-0.161220</td>\n",
       "      <td>-0.325358</td>\n",
       "      <td>0.099584</td>\n",
       "    </tr>\n",
       "    <tr>\n",
       "      <th>hp</th>\n",
       "      <td>0.460532</td>\n",
       "      <td>-0.664105</td>\n",
       "      <td>0.410850</td>\n",
       "      <td>-0.226981</td>\n",
       "      <td>1.000000</td>\n",
       "      <td>0.574273</td>\n",
       "      <td>0.660827</td>\n",
       "      <td>-0.146441</td>\n",
       "    </tr>\n",
       "    <tr>\n",
       "      <th>armor</th>\n",
       "      <td>0.474346</td>\n",
       "      <td>-0.696737</td>\n",
       "      <td>0.469727</td>\n",
       "      <td>-0.161220</td>\n",
       "      <td>0.574273</td>\n",
       "      <td>1.000000</td>\n",
       "      <td>0.704324</td>\n",
       "      <td>-0.083479</td>\n",
       "    </tr>\n",
       "    <tr>\n",
       "      <th>spellblock</th>\n",
       "      <td>0.588422</td>\n",
       "      <td>-0.912377</td>\n",
       "      <td>0.601134</td>\n",
       "      <td>-0.325358</td>\n",
       "      <td>0.660827</td>\n",
       "      <td>0.704324</td>\n",
       "      <td>1.000000</td>\n",
       "      <td>-0.122325</td>\n",
       "    </tr>\n",
       "    <tr>\n",
       "      <th>attackspeedoffset</th>\n",
       "      <td>-0.025732</td>\n",
       "      <td>0.141949</td>\n",
       "      <td>-0.175860</td>\n",
       "      <td>0.099584</td>\n",
       "      <td>-0.146441</td>\n",
       "      <td>-0.083479</td>\n",
       "      <td>-0.122325</td>\n",
       "      <td>1.000000</td>\n",
       "    </tr>\n",
       "  </tbody>\n",
       "</table>\n",
       "</div>"
      ],
      "text/plain": [
       "                   attackdamage  attackrange  movespeed        mp        hp  \\\n",
       "attackdamage           1.000000    -0.558115   0.412977 -0.289434  0.460532   \n",
       "attackrange           -0.558115     1.000000  -0.628851  0.348937 -0.664105   \n",
       "movespeed              0.412977    -0.628851   1.000000 -0.248336  0.410850   \n",
       "mp                    -0.289434     0.348937  -0.248336  1.000000 -0.226981   \n",
       "hp                     0.460532    -0.664105   0.410850 -0.226981  1.000000   \n",
       "armor                  0.474346    -0.696737   0.469727 -0.161220  0.574273   \n",
       "spellblock             0.588422    -0.912377   0.601134 -0.325358  0.660827   \n",
       "attackspeedoffset     -0.025732     0.141949  -0.175860  0.099584 -0.146441   \n",
       "\n",
       "                      armor  spellblock  attackspeedoffset  \n",
       "attackdamage       0.474346    0.588422          -0.025732  \n",
       "attackrange       -0.696737   -0.912377           0.141949  \n",
       "movespeed          0.469727    0.601134          -0.175860  \n",
       "mp                -0.161220   -0.325358           0.099584  \n",
       "hp                 0.574273    0.660827          -0.146441  \n",
       "armor              1.000000    0.704324          -0.083479  \n",
       "spellblock         0.704324    1.000000          -0.122325  \n",
       "attackspeedoffset -0.083479   -0.122325           1.000000  "
      ]
     },
     "execution_count": 372,
     "metadata": {},
     "output_type": "execute_result"
    }
   ],
   "source": [
    "starting_stats.corr()"
   ]
  },
  {
   "cell_type": "code",
   "execution_count": 373,
   "metadata": {
    "collapsed": false
   },
   "outputs": [
    {
     "data": {
      "image/png": "[encoded data removed]",
      "text/plain": [
       "<matplotlib.figure.Figure at 0x11cdda490>"
      ]
     },
     "metadata": {},
     "output_type": "display_data"
    }
   ],
   "source": [
    "sns.heatmap(starting_stats.corr())\n",
    "plt.show()"
   ]
  },
  {
   "cell_type": "markdown",
   "metadata": {},
   "source": [
    "common patterns:\n",
    "    1. attackspeed is not relating to any other starting stats\n",
    "    2. higher attack damage more likely to have spellblock as well\n",
    "    3. armor is strongly positively associated hp and spellblock\n",
    "    4. attackrange is negatively associated with attackdamage, armor, hp, movespeed, and highly negatively associated with spellblock\n",
    "    5. movement speed is positively associated with spellblock\n",
    "    6. similar patterns between spellblock, armor, and hp\n",
    "    7. attak damage and movespeed are opposite of attackrange"
   ]
  },
  {
   "cell_type": "code",
   "execution_count": 359,
   "metadata": {
    "collapsed": false
   },
   "outputs": [],
   "source": [
    "df3.drop([\"crit\",\"critperlevel\"],axis = 1,inplace= True)"
   ]
  },
  {
   "cell_type": "code",
   "execution_count": 374,
   "metadata": {
    "collapsed": false
   },
   "outputs": [],
   "source": [
    "df = pd.merge(df, df3, how = \"inner\", on = \"id\")"
   ]
  },
  {
   "cell_type": "code",
   "execution_count": 494,
   "metadata": {
    "collapsed": false
   },
   "outputs": [],
   "source": [
    "df4 = pd.read_sql_query(\"\"\"SELECT * FROM spells\"\"\", conn)"
   ]
  },
  {
   "cell_type": "code",
   "execution_count": 495,
   "metadata": {
    "collapsed": false
   },
   "outputs": [
    {
     "data": {
      "text/plain": [
       "['id',\n",
       " 'spell1_labels',\n",
       " 'spell2_labels',\n",
       " 'spell3_labels',\n",
       " 'spell4_labels',\n",
       " 'spell1_lv1_effect',\n",
       " 'spell1_lv2_effect',\n",
       " 'spell1_lv3_effect',\n",
       " 'spell1_lv4_effect',\n",
       " 'spell1_lv5_effect',\n",
       " 'spell1_lv6_effect',\n",
       " 'spell2_lv1_effect',\n",
       " 'spell2_lv2_effect',\n",
       " 'spell2_lv3_effect',\n",
       " 'spell2_lv4_effect',\n",
       " 'spell2_lv5_effect',\n",
       " 'spell2_lv6_effect',\n",
       " 'spell3_lv1_effect',\n",
       " 'spell3_lv2_effect',\n",
       " 'spell3_lv3_effect',\n",
       " 'spell3_lv4_effect',\n",
       " 'spell3_lv5_effect',\n",
       " 'spell3_lv6_effect',\n",
       " 'spell4_lv1_effect',\n",
       " 'spell4_lv2_effect',\n",
       " 'spell4_lv3_effect',\n",
       " 'spell4_lv4_effect',\n",
       " 'spell4_lv5_effect',\n",
       " 'no_spells',\n",
       " 'spell1_costType',\n",
       " 'spell1_maxrank',\n",
       " 'spell1_description',\n",
       " 'spell1_name',\n",
       " 'spell2_costType',\n",
       " 'spell2_maxrank',\n",
       " 'spell2_description',\n",
       " 'spell2_name',\n",
       " 'spell3_costType',\n",
       " 'spell3_maxrank',\n",
       " 'spell3_description',\n",
       " 'spell3_name',\n",
       " 'spell4_costType',\n",
       " 'spell4_maxrank',\n",
       " 'spell4_description',\n",
       " 'spell4_name',\n",
       " 'spell1_lv1_cooldown',\n",
       " 'spell1_lv2_cooldown',\n",
       " 'spell1_lv3_cooldown',\n",
       " 'spell1_lv4_cooldown',\n",
       " 'spell1_lv5_cooldown',\n",
       " 'spell1_lv6_cooldown',\n",
       " 'spell1_lv1_cost',\n",
       " 'spell1_lv2_cost',\n",
       " 'spell1_lv3_cost',\n",
       " 'spell1_lv4_cost',\n",
       " 'spell1_lv5_cost',\n",
       " 'spell1_lv6_cost',\n",
       " 'spell1_lv1_range',\n",
       " 'spell1_lv2_range',\n",
       " 'spell1_lv3_range',\n",
       " 'spell1_lv4_range',\n",
       " 'spell1_lv5_range',\n",
       " 'spell1_lv6_range',\n",
       " 'spell2_lv1_cooldown',\n",
       " 'spell2_lv2_cooldown',\n",
       " 'spell2_lv3_cooldown',\n",
       " 'spell2_lv4_cooldown',\n",
       " 'spell2_lv5_cooldown',\n",
       " 'spell2_lv6_cooldown',\n",
       " 'spell2_lv1_cost',\n",
       " 'spell2_lv2_cost',\n",
       " 'spell2_lv3_cost',\n",
       " 'spell2_lv4_cost',\n",
       " 'spell2_lv5_cost',\n",
       " 'spell2_lv6_cost',\n",
       " 'spell2_lv1_range',\n",
       " 'spell2_lv2_range',\n",
       " 'spell2_lv3_range',\n",
       " 'spell2_lv4_range',\n",
       " 'spell2_lv5_range',\n",
       " 'spell2_lv6_range',\n",
       " 'spell3_lv1_cooldown',\n",
       " 'spell3_lv2_cooldown',\n",
       " 'spell3_lv3_cooldown',\n",
       " 'spell3_lv4_cooldown',\n",
       " 'spell3_lv5_cooldown',\n",
       " 'spell3_lv6_cooldown',\n",
       " 'spell3_lv1_cost',\n",
       " 'spell3_lv2_cost',\n",
       " 'spell3_lv3_cost',\n",
       " 'spell3_lv4_cost',\n",
       " 'spell3_lv5_cost',\n",
       " 'spell3_lv6_cost',\n",
       " 'spell3_lv1_range',\n",
       " 'spell3_lv2_range',\n",
       " 'spell3_lv3_range',\n",
       " 'spell3_lv4_range',\n",
       " 'spell3_lv5_range',\n",
       " 'spell3_lv6_range',\n",
       " 'spell4_lv1_cooldown',\n",
       " 'spell4_lv2_cooldown',\n",
       " 'spell4_lv3_cooldown',\n",
       " 'spell4_lv4_cooldown',\n",
       " 'spell4_lv5_cooldown',\n",
       " 'spell4_lv1_cost',\n",
       " 'spell4_lv2_cost',\n",
       " 'spell4_lv3_cost',\n",
       " 'spell4_lv4_cost',\n",
       " 'spell4_lv5_cost',\n",
       " 'spell4_lv1_range',\n",
       " 'spell4_lv2_range',\n",
       " 'spell4_lv3_range',\n",
       " 'spell4_lv4_range',\n",
       " 'spell4_lv5_range']"
      ]
     },
     "execution_count": 495,
     "metadata": {},
     "output_type": "execute_result"
    }
   ],
   "source": [
    "list(df4)"
   ]
  },
  {
   "cell_type": "code",
   "execution_count": 496,
   "metadata": {
    "collapsed": false
   },
   "outputs": [],
   "source": [
    "filter_col = [col for col in list(df4) if col.endswith('cooldown') or col.endswith('cost') or col.endswith(\"range\") or col.endswith(\"maxrank\") or col.endswith(\"effect\")] + [\"id\"] "
   ]
  },
  {
   "cell_type": "code",
   "execution_count": 497,
   "metadata": {
    "collapsed": false
   },
   "outputs": [],
   "source": [
    "spells_num = df4[filter_col]"
   ]
  },
  {
   "cell_type": "code",
   "execution_count": 499,
   "metadata": {
    "collapsed": false
   },
   "outputs": [
    {
     "data": {
      "text/html": [
       "<div>\n",
       "<style>\n",
       "    .dataframe thead tr:only-child th {\n",
       "        text-align: right;\n",
       "    }\n",
       "\n",
       "    .dataframe thead th {\n",
       "        text-align: left;\n",
       "    }\n",
       "\n",
       "    .dataframe tbody tr th {\n",
       "        vertical-align: top;\n",
       "    }\n",
       "</style>\n",
       "<table border=\"1\" class=\"dataframe\">\n",
       "  <thead>\n",
       "    <tr style=\"text-align: right;\">\n",
       "      <th></th>\n",
       "      <th>spell1_lv1_effect</th>\n",
       "      <th>spell1_lv2_effect</th>\n",
       "      <th>spell1_lv3_effect</th>\n",
       "      <th>spell1_lv4_effect</th>\n",
       "      <th>spell1_lv5_effect</th>\n",
       "      <th>spell1_lv6_effect</th>\n",
       "      <th>spell2_lv1_effect</th>\n",
       "      <th>spell2_lv2_effect</th>\n",
       "      <th>spell2_lv3_effect</th>\n",
       "      <th>spell2_lv4_effect</th>\n",
       "      <th>...</th>\n",
       "      <th>spell4_lv2_cost</th>\n",
       "      <th>spell4_lv3_cost</th>\n",
       "      <th>spell4_lv4_cost</th>\n",
       "      <th>spell4_lv5_cost</th>\n",
       "      <th>spell4_lv1_range</th>\n",
       "      <th>spell4_lv2_range</th>\n",
       "      <th>spell4_lv3_range</th>\n",
       "      <th>spell4_lv4_range</th>\n",
       "      <th>spell4_lv5_range</th>\n",
       "      <th>id</th>\n",
       "    </tr>\n",
       "  </thead>\n",
       "  <tbody>\n",
       "    <tr>\n",
       "      <th>0</th>\n",
       "      <td>80.0</td>\n",
       "      <td>115.0</td>\n",
       "      <td>150.0</td>\n",
       "      <td>185.0</td>\n",
       "      <td>220.0</td>\n",
       "      <td>NaN</td>\n",
       "      <td>70.0</td>\n",
       "      <td>115.0</td>\n",
       "      <td>160.0</td>\n",
       "      <td>205.0</td>\n",
       "      <td>...</td>\n",
       "      <td>100.0</td>\n",
       "      <td>100.0</td>\n",
       "      <td>NaN</td>\n",
       "      <td>NaN</td>\n",
       "      <td>600</td>\n",
       "      <td>600.0</td>\n",
       "      <td>600.0</td>\n",
       "      <td>NaN</td>\n",
       "      <td>NaN</td>\n",
       "      <td>1</td>\n",
       "    </tr>\n",
       "    <tr>\n",
       "      <th>1</th>\n",
       "      <td>60.0</td>\n",
       "      <td>110.0</td>\n",
       "      <td>160.0</td>\n",
       "      <td>210.0</td>\n",
       "      <td>260.0</td>\n",
       "      <td>NaN</td>\n",
       "      <td>60.0</td>\n",
       "      <td>105.0</td>\n",
       "      <td>150.0</td>\n",
       "      <td>195.0</td>\n",
       "      <td>...</td>\n",
       "      <td>0.0</td>\n",
       "      <td>0.0</td>\n",
       "      <td>NaN</td>\n",
       "      <td>NaN</td>\n",
       "      <td>900</td>\n",
       "      <td>900.0</td>\n",
       "      <td>900.0</td>\n",
       "      <td>NaN</td>\n",
       "      <td>NaN</td>\n",
       "      <td>10</td>\n",
       "    </tr>\n",
       "  </tbody>\n",
       "</table>\n",
       "<p>2 rows × 97 columns</p>\n",
       "</div>"
      ],
      "text/plain": [
       "   spell1_lv1_effect  spell1_lv2_effect  spell1_lv3_effect  spell1_lv4_effect  \\\n",
       "0               80.0              115.0              150.0              185.0   \n",
       "1               60.0              110.0              160.0              210.0   \n",
       "\n",
       "   spell1_lv5_effect  spell1_lv6_effect  spell2_lv1_effect  spell2_lv2_effect  \\\n",
       "0              220.0                NaN               70.0              115.0   \n",
       "1              260.0                NaN               60.0              105.0   \n",
       "\n",
       "   spell2_lv3_effect  spell2_lv4_effect ...  spell4_lv2_cost  spell4_lv3_cost  \\\n",
       "0              160.0              205.0 ...            100.0            100.0   \n",
       "1              150.0              195.0 ...              0.0              0.0   \n",
       "\n",
       "   spell4_lv4_cost  spell4_lv5_cost  spell4_lv1_range  spell4_lv2_range  \\\n",
       "0              NaN              NaN               600             600.0   \n",
       "1              NaN              NaN               900             900.0   \n",
       "\n",
       "   spell4_lv3_range  spell4_lv4_range  spell4_lv5_range  id  \n",
       "0             600.0               NaN               NaN   1  \n",
       "1             900.0               NaN               NaN  10  \n",
       "\n",
       "[2 rows x 97 columns]"
      ]
     },
     "execution_count": 499,
     "metadata": {},
     "output_type": "execute_result"
    }
   ],
   "source": [
    "spells_num.head(2)"
   ]
  },
  {
   "cell_type": "code",
   "execution_count": 500,
   "metadata": {
    "collapsed": true
   },
   "outputs": [],
   "source": [
    "def getting_row_avg(spellnumber, spelltype):\n",
    "    names = list(spells_num)\n",
    "    return spells_num[[col for col in names if col.startswith(spellnumber) and col.endswith(spelltype)]].mean(axis=1)"
   ]
  },
  {
   "cell_type": "code",
   "execution_count": 429,
   "metadata": {
    "collapsed": false
   },
   "outputs": [
    {
     "data": {
      "text/html": [
       "<div>\n",
       "<style>\n",
       "    .dataframe thead tr:only-child th {\n",
       "        text-align: right;\n",
       "    }\n",
       "\n",
       "    .dataframe thead th {\n",
       "        text-align: left;\n",
       "    }\n",
       "\n",
       "    .dataframe tbody tr th {\n",
       "        vertical-align: top;\n",
       "    }\n",
       "</style>\n",
       "<table border=\"1\" class=\"dataframe\">\n",
       "  <thead>\n",
       "    <tr style=\"text-align: right;\">\n",
       "      <th></th>\n",
       "      <th>spell1_lv1_range</th>\n",
       "      <th>spell1_lv2_range</th>\n",
       "    </tr>\n",
       "  </thead>\n",
       "  <tbody>\n",
       "    <tr>\n",
       "      <th>0</th>\n",
       "      <td>625</td>\n",
       "      <td>625</td>\n",
       "    </tr>\n",
       "    <tr>\n",
       "      <th>1</th>\n",
       "      <td>650</td>\n",
       "      <td>650</td>\n",
       "    </tr>\n",
       "  </tbody>\n",
       "</table>\n",
       "</div>"
      ],
      "text/plain": [
       "   spell1_lv1_range  spell1_lv2_range\n",
       "0               625               625\n",
       "1               650               650"
      ]
     },
     "execution_count": 429,
     "metadata": {},
     "output_type": "execute_result"
    }
   ],
   "source": [
    "spells_num[[\"spell1_lv1_range\",\"spell1_lv2_range\"]].head(2)"
   ]
  },
  {
   "cell_type": "code",
   "execution_count": 501,
   "metadata": {
    "collapsed": false
   },
   "outputs": [
    {
     "data": {
      "text/plain": [
       "0    1250\n",
       "1    1300\n",
       "dtype: int64"
      ]
     },
     "execution_count": 501,
     "metadata": {},
     "output_type": "execute_result"
    }
   ],
   "source": [
    "spells_num[[\"spell1_lv1_range\",\"spell1_lv2_range\"]].sum(axis = 1).head(2)"
   ]
  },
  {
   "cell_type": "code",
   "execution_count": 518,
   "metadata": {
    "collapsed": false
   },
   "outputs": [
    {
     "name": "stderr",
     "output_type": "stream",
     "text": [
      "/Users/jasonchiu0803/anaconda2/lib/python2.7/site-packages/ipykernel/__main__.py:1: SettingWithCopyWarning: \n",
      "A value is trying to be set on a copy of a slice from a DataFrame.\n",
      "Try using .loc[row_indexer,col_indexer] = value instead\n",
      "\n",
      "See the caveats in the documentation: http://pandas.pydata.org/pandas-docs/stable/indexing.html#indexing-view-versus-copy\n",
      "  if __name__ == '__main__':\n",
      "/Users/jasonchiu0803/anaconda2/lib/python2.7/site-packages/ipykernel/__main__.py:2: SettingWithCopyWarning: \n",
      "A value is trying to be set on a copy of a slice from a DataFrame.\n",
      "Try using .loc[row_indexer,col_indexer] = value instead\n",
      "\n",
      "See the caveats in the documentation: http://pandas.pydata.org/pandas-docs/stable/indexing.html#indexing-view-versus-copy\n",
      "  from ipykernel import kernelapp as app\n",
      "/Users/jasonchiu0803/anaconda2/lib/python2.7/site-packages/ipykernel/__main__.py:3: SettingWithCopyWarning: \n",
      "A value is trying to be set on a copy of a slice from a DataFrame.\n",
      "Try using .loc[row_indexer,col_indexer] = value instead\n",
      "\n",
      "See the caveats in the documentation: http://pandas.pydata.org/pandas-docs/stable/indexing.html#indexing-view-versus-copy\n",
      "  app.launch_new_instance()\n",
      "/Users/jasonchiu0803/anaconda2/lib/python2.7/site-packages/ipykernel/__main__.py:4: SettingWithCopyWarning: \n",
      "A value is trying to be set on a copy of a slice from a DataFrame.\n",
      "Try using .loc[row_indexer,col_indexer] = value instead\n",
      "\n",
      "See the caveats in the documentation: http://pandas.pydata.org/pandas-docs/stable/indexing.html#indexing-view-versus-copy\n",
      "/Users/jasonchiu0803/anaconda2/lib/python2.7/site-packages/ipykernel/__main__.py:5: SettingWithCopyWarning: \n",
      "A value is trying to be set on a copy of a slice from a DataFrame.\n",
      "Try using .loc[row_indexer,col_indexer] = value instead\n",
      "\n",
      "See the caveats in the documentation: http://pandas.pydata.org/pandas-docs/stable/indexing.html#indexing-view-versus-copy\n",
      "/Users/jasonchiu0803/anaconda2/lib/python2.7/site-packages/ipykernel/__main__.py:6: SettingWithCopyWarning: \n",
      "A value is trying to be set on a copy of a slice from a DataFrame.\n",
      "Try using .loc[row_indexer,col_indexer] = value instead\n",
      "\n",
      "See the caveats in the documentation: http://pandas.pydata.org/pandas-docs/stable/indexing.html#indexing-view-versus-copy\n",
      "/Users/jasonchiu0803/anaconda2/lib/python2.7/site-packages/ipykernel/__main__.py:7: SettingWithCopyWarning: \n",
      "A value is trying to be set on a copy of a slice from a DataFrame.\n",
      "Try using .loc[row_indexer,col_indexer] = value instead\n",
      "\n",
      "See the caveats in the documentation: http://pandas.pydata.org/pandas-docs/stable/indexing.html#indexing-view-versus-copy\n",
      "/Users/jasonchiu0803/anaconda2/lib/python2.7/site-packages/ipykernel/__main__.py:8: SettingWithCopyWarning: \n",
      "A value is trying to be set on a copy of a slice from a DataFrame.\n",
      "Try using .loc[row_indexer,col_indexer] = value instead\n",
      "\n",
      "See the caveats in the documentation: http://pandas.pydata.org/pandas-docs/stable/indexing.html#indexing-view-versus-copy\n",
      "/Users/jasonchiu0803/anaconda2/lib/python2.7/site-packages/ipykernel/__main__.py:9: SettingWithCopyWarning: \n",
      "A value is trying to be set on a copy of a slice from a DataFrame.\n",
      "Try using .loc[row_indexer,col_indexer] = value instead\n",
      "\n",
      "See the caveats in the documentation: http://pandas.pydata.org/pandas-docs/stable/indexing.html#indexing-view-versus-copy\n",
      "/Users/jasonchiu0803/anaconda2/lib/python2.7/site-packages/ipykernel/__main__.py:10: SettingWithCopyWarning: \n",
      "A value is trying to be set on a copy of a slice from a DataFrame.\n",
      "Try using .loc[row_indexer,col_indexer] = value instead\n",
      "\n",
      "See the caveats in the documentation: http://pandas.pydata.org/pandas-docs/stable/indexing.html#indexing-view-versus-copy\n",
      "/Users/jasonchiu0803/anaconda2/lib/python2.7/site-packages/ipykernel/__main__.py:11: SettingWithCopyWarning: \n",
      "A value is trying to be set on a copy of a slice from a DataFrame.\n",
      "Try using .loc[row_indexer,col_indexer] = value instead\n",
      "\n",
      "See the caveats in the documentation: http://pandas.pydata.org/pandas-docs/stable/indexing.html#indexing-view-versus-copy\n",
      "/Users/jasonchiu0803/anaconda2/lib/python2.7/site-packages/ipykernel/__main__.py:12: SettingWithCopyWarning: \n",
      "A value is trying to be set on a copy of a slice from a DataFrame.\n",
      "Try using .loc[row_indexer,col_indexer] = value instead\n",
      "\n",
      "See the caveats in the documentation: http://pandas.pydata.org/pandas-docs/stable/indexing.html#indexing-view-versus-copy\n",
      "/Users/jasonchiu0803/anaconda2/lib/python2.7/site-packages/ipykernel/__main__.py:13: SettingWithCopyWarning: \n",
      "A value is trying to be set on a copy of a slice from a DataFrame.\n",
      "Try using .loc[row_indexer,col_indexer] = value instead\n",
      "\n",
      "See the caveats in the documentation: http://pandas.pydata.org/pandas-docs/stable/indexing.html#indexing-view-versus-copy\n",
      "/Users/jasonchiu0803/anaconda2/lib/python2.7/site-packages/ipykernel/__main__.py:14: SettingWithCopyWarning: \n",
      "A value is trying to be set on a copy of a slice from a DataFrame.\n",
      "Try using .loc[row_indexer,col_indexer] = value instead\n",
      "\n",
      "See the caveats in the documentation: http://pandas.pydata.org/pandas-docs/stable/indexing.html#indexing-view-versus-copy\n",
      "/Users/jasonchiu0803/anaconda2/lib/python2.7/site-packages/ipykernel/__main__.py:15: SettingWithCopyWarning: \n",
      "A value is trying to be set on a copy of a slice from a DataFrame.\n",
      "Try using .loc[row_indexer,col_indexer] = value instead\n",
      "\n",
      "See the caveats in the documentation: http://pandas.pydata.org/pandas-docs/stable/indexing.html#indexing-view-versus-copy\n",
      "/Users/jasonchiu0803/anaconda2/lib/python2.7/site-packages/ipykernel/__main__.py:16: SettingWithCopyWarning: \n",
      "A value is trying to be set on a copy of a slice from a DataFrame.\n",
      "Try using .loc[row_indexer,col_indexer] = value instead\n",
      "\n",
      "See the caveats in the documentation: http://pandas.pydata.org/pandas-docs/stable/indexing.html#indexing-view-versus-copy\n"
     ]
    }
   ],
   "source": [
    "spells_num[\"spell1_avg_range\"] = getting_row_avg(\"spell1\",\"range\")\n",
    "spells_num[\"spell1_avg_cooldown\"] = getting_row_avg(\"spell1\",\"cooldown\")\n",
    "spells_num[\"spell1_avg_cost\"] = getting_row_avg(\"spell1\",\"cost\")\n",
    "spells_num[\"spell1_avg_effect\"] = getting_row_avg(\"spell1\",\"effect\")\n",
    "spells_num[\"spell2_avg_range\"] = getting_row_avg(\"spell2\",\"range\")\n",
    "spells_num[\"spell2_avg_cooldown\"] = getting_row_avg(\"spell2\",\"cooldown\")\n",
    "spells_num[\"spell2_avg_cost\"] = getting_row_avg(\"spell2\",\"cost\")\n",
    "spells_num[\"spell2_avg_effect\"] = getting_row_avg(\"spell2\",\"effect\")\n",
    "spells_num[\"spell3_avg_range\"] = getting_row_avg(\"spell3\",\"range\")\n",
    "spells_num[\"spell3_avg_cooldown\"] = getting_row_avg(\"spell3\",\"cooldown\")\n",
    "spells_num[\"spell3_avg_cost\"] = getting_row_avg(\"spell3\",\"cost\")\n",
    "spells_num[\"spell3_avg_effect\"] = getting_row_avg(\"spell3\",\"effect\")\n",
    "spells_num[\"spell4_avg_range\"] = getting_row_avg(\"spell4\",\"range\")\n",
    "spells_num[\"spell4_avg_cooldown\"] = getting_row_avg(\"spell4\",\"cooldown\")\n",
    "spells_num[\"spell4_avg_cost\"] = getting_row_avg(\"spell4\",\"cost\")\n",
    "spells_num[\"spell4_avg_effect\"] = getting_row_avg(\"spell4\",\"effect\")"
   ]
  },
  {
   "cell_type": "code",
   "execution_count": 523,
   "metadata": {
    "collapsed": false
   },
   "outputs": [],
   "source": [
    "spells_num.loc[spells_num[\"spell1_avg_range\"]==0, \"spell1_avg_effect\"] = 0\n",
    "spells_num.loc[spells_num[\"spell2_avg_range\"]==0, \"spell2_avg_effect\"] = 0\n",
    "spells_num.loc[spells_num[\"spell3_avg_range\"]==0, \"spell3_avg_effect\"] = 0"
   ]
  },
  {
   "cell_type": "code",
   "execution_count": 524,
   "metadata": {
    "collapsed": false
   },
   "outputs": [],
   "source": [
    "spells_final = spells_num[[col for col in list(spells_num) if \"avg\" in col or col.endswith(\"maxrank\")] + [\"id\"]]"
   ]
  },
  {
   "cell_type": "code",
   "execution_count": 525,
   "metadata": {
    "collapsed": false
   },
   "outputs": [
    {
     "data": {
      "image/png": "[encoded data removed]",
      "text/plain": [
       "<matplotlib.figure.Figure at 0x11aecf410>"
      ]
     },
     "metadata": {},
     "output_type": "display_data"
    }
   ],
   "source": [
    "plt.subplot(2,2,1)\n",
    "plt.title(\"spell1 maxrank\")\n",
    "plt.hist(spells_final[\"spell1_maxrank\"])\n",
    "plt.xlim([1,6])\n",
    "plt.xlabel(\"levels\")\n",
    "plt.ylabel(\"count\")\n",
    "plt.subplot(2,2,2)\n",
    "plt.title(\"spell2 maxrank\")\n",
    "plt.hist(spells_final[\"spell2_maxrank\"])\n",
    "plt.xlim([1,6])\n",
    "plt.xlabel(\"levels\")\n",
    "plt.ylabel(\"count\")\n",
    "plt.subplot(2,2,3)\n",
    "plt.title(\"spell3 maxrank\")\n",
    "plt.hist(spells_final[\"spell3_maxrank\"])\n",
    "plt.xlim([1,6])\n",
    "plt.xlabel(\"levels\")\n",
    "plt.ylabel(\"count\")\n",
    "plt.subplot(2,2,4)\n",
    "plt.title(\"spell4 maxrank\")\n",
    "plt.hist(spells_final[\"spell4_maxrank\"])\n",
    "plt.xlim([1,6])\n",
    "plt.xlabel(\"levels\")\n",
    "plt.ylabel(\"count\")\n",
    "plt.tight_layout()\n",
    "plt.show()"
   ]
  },
  {
   "cell_type": "code",
   "execution_count": 517,
   "metadata": {
    "collapsed": false
   },
   "outputs": [
    {
     "data": {
      "text/html": [
       "<div>\n",
       "<style>\n",
       "    .dataframe thead tr:only-child th {\n",
       "        text-align: right;\n",
       "    }\n",
       "\n",
       "    .dataframe thead th {\n",
       "        text-align: left;\n",
       "    }\n",
       "\n",
       "    .dataframe tbody tr th {\n",
       "        vertical-align: top;\n",
       "    }\n",
       "</style>\n",
       "<table border=\"1\" class=\"dataframe\">\n",
       "  <thead>\n",
       "    <tr style=\"text-align: right;\">\n",
       "      <th></th>\n",
       "      <th>spell1_avg_range</th>\n",
       "      <th>spell1_avg_cooldown</th>\n",
       "      <th>spell1_avg_cost</th>\n",
       "      <th>spell1_avg_effect</th>\n",
       "      <th>spell2_avg_range</th>\n",
       "      <th>spell2_avg_cooldown</th>\n",
       "      <th>spell2_avg_cost</th>\n",
       "      <th>spell3_avg_range</th>\n",
       "      <th>spell3_avg_cooldown</th>\n",
       "      <th>spell3_avg_cost</th>\n",
       "      <th>spell4_avg_range</th>\n",
       "      <th>spell4_avg_cooldown</th>\n",
       "      <th>spell4_avg_cost</th>\n",
       "      <th>spell2_avg_effect</th>\n",
       "      <th>spell3_avg_effect</th>\n",
       "      <th>spell4_avg_effect</th>\n",
       "      <th>id</th>\n",
       "    </tr>\n",
       "  </thead>\n",
       "  <tbody>\n",
       "    <tr>\n",
       "      <th>min</th>\n",
       "      <td>0.000000</td>\n",
       "      <td>0.000000</td>\n",
       "      <td>0.000000</td>\n",
       "      <td>0.000000</td>\n",
       "      <td>0.000000</td>\n",
       "      <td>0.000000</td>\n",
       "      <td>0.000000</td>\n",
       "      <td>0.000000</td>\n",
       "      <td>0.000000</td>\n",
       "      <td>0.000000</td>\n",
       "      <td>1.000000</td>\n",
       "      <td>0.00000</td>\n",
       "      <td>0.000000</td>\n",
       "      <td>0.000000</td>\n",
       "      <td>0.000000</td>\n",
       "      <td>0.000000</td>\n",
       "      <td>1.000000</td>\n",
       "    </tr>\n",
       "    <tr>\n",
       "      <th>mean</th>\n",
       "      <td>1248.364964</td>\n",
       "      <td>7.698905</td>\n",
       "      <td>50.182482</td>\n",
       "      <td>117.841241</td>\n",
       "      <td>932.912409</td>\n",
       "      <td>12.337348</td>\n",
       "      <td>49.839416</td>\n",
       "      <td>1009.386861</td>\n",
       "      <td>10.526764</td>\n",
       "      <td>52.018248</td>\n",
       "      <td>3863.605839</td>\n",
       "      <td>92.61983</td>\n",
       "      <td>76.180049</td>\n",
       "      <td>83.670438</td>\n",
       "      <td>90.167883</td>\n",
       "      <td>244.033577</td>\n",
       "      <td>105.693431</td>\n",
       "    </tr>\n",
       "    <tr>\n",
       "      <th>median</th>\n",
       "      <td>700.000000</td>\n",
       "      <td>7.000000</td>\n",
       "      <td>55.000000</td>\n",
       "      <td>110.000000</td>\n",
       "      <td>600.000000</td>\n",
       "      <td>12.000000</td>\n",
       "      <td>55.000000</td>\n",
       "      <td>625.000000</td>\n",
       "      <td>11.000000</td>\n",
       "      <td>60.000000</td>\n",
       "      <td>700.000000</td>\n",
       "      <td>100.00000</td>\n",
       "      <td>100.000000</td>\n",
       "      <td>50.000000</td>\n",
       "      <td>100.000000</td>\n",
       "      <td>175.000000</td>\n",
       "      <td>78.000000</td>\n",
       "    </tr>\n",
       "    <tr>\n",
       "      <th>max</th>\n",
       "      <td>25000.000000</td>\n",
       "      <td>18.000000</td>\n",
       "      <td>120.000000</td>\n",
       "      <td>875.000000</td>\n",
       "      <td>25000.000000</td>\n",
       "      <td>90.000000</td>\n",
       "      <td>100.000000</td>\n",
       "      <td>25000.000000</td>\n",
       "      <td>50.000000</td>\n",
       "      <td>150.000000</td>\n",
       "      <td>50000.000000</td>\n",
       "      <td>180.00000</td>\n",
       "      <td>175.000000</td>\n",
       "      <td>1500.000000</td>\n",
       "      <td>450.000000</td>\n",
       "      <td>5500.000000</td>\n",
       "      <td>498.000000</td>\n",
       "    </tr>\n",
       "  </tbody>\n",
       "</table>\n",
       "</div>"
      ],
      "text/plain": [
       "        spell1_avg_range  spell1_avg_cooldown  spell1_avg_cost  \\\n",
       "min             0.000000             0.000000         0.000000   \n",
       "mean         1248.364964             7.698905        50.182482   \n",
       "median        700.000000             7.000000        55.000000   \n",
       "max         25000.000000            18.000000       120.000000   \n",
       "\n",
       "        spell1_avg_effect  spell2_avg_range  spell2_avg_cooldown  \\\n",
       "min              0.000000          0.000000             0.000000   \n",
       "mean           117.841241        932.912409            12.337348   \n",
       "median         110.000000        600.000000            12.000000   \n",
       "max            875.000000      25000.000000            90.000000   \n",
       "\n",
       "        spell2_avg_cost  spell3_avg_range  spell3_avg_cooldown  \\\n",
       "min            0.000000          0.000000             0.000000   \n",
       "mean          49.839416       1009.386861            10.526764   \n",
       "median        55.000000        625.000000            11.000000   \n",
       "max          100.000000      25000.000000            50.000000   \n",
       "\n",
       "        spell3_avg_cost  spell4_avg_range  spell4_avg_cooldown  \\\n",
       "min            0.000000          1.000000              0.00000   \n",
       "mean          52.018248       3863.605839             92.61983   \n",
       "median        60.000000        700.000000            100.00000   \n",
       "max          150.000000      50000.000000            180.00000   \n",
       "\n",
       "        spell4_avg_cost  spell2_avg_effect  spell3_avg_effect  \\\n",
       "min            0.000000           0.000000           0.000000   \n",
       "mean          76.180049          83.670438          90.167883   \n",
       "median       100.000000          50.000000         100.000000   \n",
       "max          175.000000        1500.000000         450.000000   \n",
       "\n",
       "        spell4_avg_effect          id  \n",
       "min              0.000000    1.000000  \n",
       "mean           244.033577  105.693431  \n",
       "median         175.000000   78.000000  \n",
       "max           5500.000000  498.000000  "
      ]
     },
     "execution_count": 517,
     "metadata": {},
     "output_type": "execute_result"
    }
   ],
   "source": [
    "spells_final[[col for col in list(spells_final) if not col.endswith(\"maxrank\")]].aggregate([\"min\",\"mean\",\"median\",\"max\"])"
   ]
  },
  {
   "cell_type": "code",
   "execution_count": 526,
   "metadata": {
    "collapsed": false
   },
   "outputs": [
    {
     "data": {
      "text/plain": [
       "['spell1_maxrank',\n",
       " 'spell2_maxrank',\n",
       " 'spell3_maxrank',\n",
       " 'spell4_maxrank',\n",
       " 'spell1_avg_range',\n",
       " 'spell1_avg_cooldown',\n",
       " 'spell1_avg_cost',\n",
       " 'spell1_avg_effect',\n",
       " 'spell2_avg_range',\n",
       " 'spell2_avg_cooldown',\n",
       " 'spell2_avg_cost',\n",
       " 'spell3_avg_range',\n",
       " 'spell3_avg_cooldown',\n",
       " 'spell3_avg_cost',\n",
       " 'spell4_avg_range',\n",
       " 'spell4_avg_cooldown',\n",
       " 'spell4_avg_cost',\n",
       " 'spell2_avg_effect',\n",
       " 'spell3_avg_effect',\n",
       " 'spell4_avg_effect',\n",
       " 'id']"
      ]
     },
     "execution_count": 526,
     "metadata": {},
     "output_type": "execute_result"
    }
   ],
   "source": [
    "list(spells_final)"
   ]
  },
  {
   "cell_type": "markdown",
   "metadata": {},
   "source": [
    "potential ideas - since there are no categories for reasons for the orders of these spells + the labels/tags are pretty complicated - we might be able to do some sort of clustering with the spells to get the type of it down and compare with the labels."
   ]
  },
  {
   "cell_type": "code",
   "execution_count": 527,
   "metadata": {
    "collapsed": true
   },
   "outputs": [],
   "source": [
    "df = pd.merge(df, spells_final, how = \"inner\", on = \"id\")"
   ]
  },
  {
   "cell_type": "code",
   "execution_count": 531,
   "metadata": {
    "collapsed": false
   },
   "outputs": [],
   "source": [
    "df.drop([\"crit\",\"critperlevel\"],inplace=True, axis = 1)"
   ]
  },
  {
   "cell_type": "markdown",
   "metadata": {},
   "source": [
    "# Categorical/text data cleanup"
   ]
  },
  {
   "cell_type": "code",
   "execution_count": null,
   "metadata": {
    "collapsed": true
   },
   "outputs": [],
   "source": []
  },
  {
   "cell_type": "code",
   "execution_count": null,
   "metadata": {
    "collapsed": true
   },
   "outputs": [],
   "source": []
  },
  {
   "cell_type": "code",
   "execution_count": null,
   "metadata": {
    "collapsed": true
   },
   "outputs": [],
   "source": []
  },
  {
   "cell_type": "code",
   "execution_count": null,
   "metadata": {
    "collapsed": true
   },
   "outputs": [],
   "source": []
  },
  {
   "cell_type": "code",
   "execution_count": null,
   "metadata": {
    "collapsed": true
   },
   "outputs": [],
   "source": []
  },
  {
   "cell_type": "code",
   "execution_count": null,
   "metadata": {
    "collapsed": true
   },
   "outputs": [],
   "source": []
  },
  {
   "cell_type": "code",
   "execution_count": null,
   "metadata": {
    "collapsed": false
   },
   "outputs": [],
   "source": []
  },
  {
   "cell_type": "code",
   "execution_count": null,
   "metadata": {
    "collapsed": true
   },
   "outputs": [],
   "source": []
  },
  {
   "cell_type": "code",
   "execution_count": null,
   "metadata": {
    "collapsed": true
   },
   "outputs": [],
   "source": []
  },
  {
   "cell_type": "code",
   "execution_count": null,
   "metadata": {
    "collapsed": true
   },
   "outputs": [],
   "source": []
  },
  {
   "cell_type": "code",
   "execution_count": null,
   "metadata": {
    "collapsed": true
   },
   "outputs": [],
   "source": []
  },
  {
   "cell_type": "code",
   "execution_count": null,
   "metadata": {
    "collapsed": true
   },
   "outputs": [],
   "source": []
  },
  {
   "cell_type": "code",
   "execution_count": null,
   "metadata": {
    "collapsed": true
   },
   "outputs": [],
   "source": [
    "cur.close()\n",
    "conn.close()"
   ]
  }
 ],
 "metadata": {
  "anaconda-cloud": {},
  "kernelspec": {
   "display_name": "Python [conda root]",
   "language": "python",
   "name": "conda-root-py"
  },
  "language_info": {
   "codemirror_mode": {
    "name": "ipython",
    "version": 2
   },
   "file_extension": ".py",
   "mimetype": "text/x-python",
   "name": "python",
   "nbconvert_exporter": "python",
   "pygments_lexer": "ipython2",
   "version": "2.7.9"
  }
 },
 "nbformat": 4,
 "nbformat_minor": 2
}
