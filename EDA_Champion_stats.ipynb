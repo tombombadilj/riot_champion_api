{
 "cells": [
  {
   "cell_type": "code",
   "execution_count": 173,
   "metadata": {
    "collapsed": true
   },
   "outputs": [],
   "source": [
    "import sqlite3\n",
    "import pandas as pd\n",
    "import numpy as np\n",
    "import matplotlib.pyplot as plt\n",
    "import seaborn as sns\n",
    "import scipy\n",
    "sns.set()"
   ]
  },
  {
   "cell_type": "markdown",
   "metadata": {},
   "source": [
    "Working with numeric variables first"
   ]
  },
  {
   "cell_type": "code",
   "execution_count": 174,
   "metadata": {
    "collapsed": true
   },
   "outputs": [],
   "source": [
    "conn = sqlite3.connect(\"champion_riot.sqlite\")\n",
    "cur = conn.cursor()"
   ]
  },
  {
   "cell_type": "code",
   "execution_count": 175,
   "metadata": {
    "collapsed": false
   },
   "outputs": [
    {
     "data": {
      "text/html": [
       "<div>\n",
       "<style>\n",
       "    .dataframe thead tr:only-child th {\n",
       "        text-align: right;\n",
       "    }\n",
       "\n",
       "    .dataframe thead th {\n",
       "        text-align: left;\n",
       "    }\n",
       "\n",
       "    .dataframe tbody tr th {\n",
       "        vertical-align: top;\n",
       "    }\n",
       "</style>\n",
       "<table border=\"1\" class=\"dataframe\">\n",
       "  <thead>\n",
       "    <tr style=\"text-align: right;\">\n",
       "      <th></th>\n",
       "      <th>name</th>\n",
       "    </tr>\n",
       "  </thead>\n",
       "  <tbody>\n",
       "    <tr>\n",
       "      <th>0</th>\n",
       "      <td>allytips</td>\n",
       "    </tr>\n",
       "    <tr>\n",
       "      <th>1</th>\n",
       "      <td>blurb</td>\n",
       "    </tr>\n",
       "    <tr>\n",
       "      <th>2</th>\n",
       "      <td>enemytips</td>\n",
       "    </tr>\n",
       "    <tr>\n",
       "      <th>3</th>\n",
       "      <td>format</td>\n",
       "    </tr>\n",
       "    <tr>\n",
       "      <th>4</th>\n",
       "      <td>info</td>\n",
       "    </tr>\n",
       "    <tr>\n",
       "      <th>5</th>\n",
       "      <td>partype</td>\n",
       "    </tr>\n",
       "    <tr>\n",
       "      <th>6</th>\n",
       "      <td>passive</td>\n",
       "    </tr>\n",
       "    <tr>\n",
       "      <th>7</th>\n",
       "      <td>skins</td>\n",
       "    </tr>\n",
       "    <tr>\n",
       "      <th>8</th>\n",
       "      <td>spells</td>\n",
       "    </tr>\n",
       "    <tr>\n",
       "      <th>9</th>\n",
       "      <td>stats</td>\n",
       "    </tr>\n",
       "    <tr>\n",
       "      <th>10</th>\n",
       "      <td>tags</td>\n",
       "    </tr>\n",
       "  </tbody>\n",
       "</table>\n",
       "</div>"
      ],
      "text/plain": [
       "         name\n",
       "0    allytips\n",
       "1       blurb\n",
       "2   enemytips\n",
       "3      format\n",
       "4        info\n",
       "5     partype\n",
       "6     passive\n",
       "7       skins\n",
       "8      spells\n",
       "9       stats\n",
       "10       tags"
      ]
     },
     "execution_count": 175,
     "metadata": {},
     "output_type": "execute_result"
    }
   ],
   "source": [
    "# all tables in the database champion_riot_sqlite\n",
    "pd.read_sql_query(\"\"\"SELECT name FROM sqlite_master\n",
    "                     WHERE type='table'\n",
    "                     ORDER BY name;\"\"\", conn)"
   ]
  },
  {
   "cell_type": "code",
   "execution_count": 176,
   "metadata": {
    "collapsed": false
   },
   "outputs": [],
   "source": [
    "df = pd.read_sql_query(\"\"\"SELECT a.title, a.id, a.name, b.difficulty, b.attack, b.defense, b.magic\n",
    "                          FROM allytips a \n",
    "                          LEFT JOIN (SELECT * FROM info) b \n",
    "                          ON a.id = b.id\"\"\", conn)"
   ]
  },
  {
   "cell_type": "code",
   "execution_count": 177,
   "metadata": {
    "collapsed": false
   },
   "outputs": [
    {
     "data": {
      "text/plain": [
       "(137, 7)"
      ]
     },
     "execution_count": 177,
     "metadata": {},
     "output_type": "execute_result"
    }
   ],
   "source": [
    "# a total of 137 champions are currently in the game\n",
    "df.shape"
   ]
  },
  {
   "cell_type": "code",
   "execution_count": 178,
   "metadata": {
    "collapsed": false
   },
   "outputs": [
    {
     "data": {
      "text/html": [
       "<div>\n",
       "<style>\n",
       "    .dataframe thead tr:only-child th {\n",
       "        text-align: right;\n",
       "    }\n",
       "\n",
       "    .dataframe thead th {\n",
       "        text-align: left;\n",
       "    }\n",
       "\n",
       "    .dataframe tbody tr th {\n",
       "        vertical-align: top;\n",
       "    }\n",
       "</style>\n",
       "<table border=\"1\" class=\"dataframe\">\n",
       "  <thead>\n",
       "    <tr style=\"text-align: right;\">\n",
       "      <th></th>\n",
       "      <th>difficulty</th>\n",
       "      <th>attack</th>\n",
       "      <th>defense</th>\n",
       "      <th>magic</th>\n",
       "    </tr>\n",
       "  </thead>\n",
       "  <tbody>\n",
       "    <tr>\n",
       "      <th>min</th>\n",
       "      <td>1.000000</td>\n",
       "      <td>1.000000</td>\n",
       "      <td>1.000000</td>\n",
       "      <td>1.000000</td>\n",
       "    </tr>\n",
       "    <tr>\n",
       "      <th>mean</th>\n",
       "      <td>5.751825</td>\n",
       "      <td>5.540146</td>\n",
       "      <td>4.773723</td>\n",
       "      <td>5.423358</td>\n",
       "    </tr>\n",
       "    <tr>\n",
       "      <th>median</th>\n",
       "      <td>6.000000</td>\n",
       "      <td>6.000000</td>\n",
       "      <td>5.000000</td>\n",
       "      <td>6.000000</td>\n",
       "    </tr>\n",
       "    <tr>\n",
       "      <th>max</th>\n",
       "      <td>10.000000</td>\n",
       "      <td>10.000000</td>\n",
       "      <td>10.000000</td>\n",
       "      <td>10.000000</td>\n",
       "    </tr>\n",
       "  </tbody>\n",
       "</table>\n",
       "</div>"
      ],
      "text/plain": [
       "        difficulty     attack    defense      magic\n",
       "min       1.000000   1.000000   1.000000   1.000000\n",
       "mean      5.751825   5.540146   4.773723   5.423358\n",
       "median    6.000000   6.000000   5.000000   6.000000\n",
       "max      10.000000  10.000000  10.000000  10.000000"
      ]
     },
     "execution_count": 178,
     "metadata": {},
     "output_type": "execute_result"
    }
   ],
   "source": [
    "# all info ranges from 1 to 10\n",
    "df[[\"difficulty\",\"attack\",\"defense\",\"magic\"]].aggregate([\"min\",\"mean\",\"median\",\"max\"])"
   ]
  },
  {
   "cell_type": "code",
   "execution_count": 179,
   "metadata": {
    "collapsed": false
   },
   "outputs": [
    {
     "data": {
      "text/html": [
       "<div>\n",
       "<style>\n",
       "    .dataframe thead tr:only-child th {\n",
       "        text-align: right;\n",
       "    }\n",
       "\n",
       "    .dataframe thead th {\n",
       "        text-align: left;\n",
       "    }\n",
       "\n",
       "    .dataframe tbody tr th {\n",
       "        vertical-align: top;\n",
       "    }\n",
       "</style>\n",
       "<table border=\"1\" class=\"dataframe\">\n",
       "  <thead>\n",
       "    <tr style=\"text-align: right;\">\n",
       "      <th></th>\n",
       "      <th>difficulty</th>\n",
       "      <th>attack</th>\n",
       "      <th>defense</th>\n",
       "      <th>magic</th>\n",
       "    </tr>\n",
       "  </thead>\n",
       "  <tbody>\n",
       "    <tr>\n",
       "      <th>difficulty</th>\n",
       "      <td>1.000000</td>\n",
       "      <td>-0.194008</td>\n",
       "      <td>-0.310971</td>\n",
       "      <td>0.308174</td>\n",
       "    </tr>\n",
       "    <tr>\n",
       "      <th>attack</th>\n",
       "      <td>-0.194008</td>\n",
       "      <td>1.000000</td>\n",
       "      <td>-0.178120</td>\n",
       "      <td>-0.828016</td>\n",
       "    </tr>\n",
       "    <tr>\n",
       "      <th>defense</th>\n",
       "      <td>-0.310971</td>\n",
       "      <td>-0.178120</td>\n",
       "      <td>1.000000</td>\n",
       "      <td>-0.131800</td>\n",
       "    </tr>\n",
       "    <tr>\n",
       "      <th>magic</th>\n",
       "      <td>0.308174</td>\n",
       "      <td>-0.828016</td>\n",
       "      <td>-0.131800</td>\n",
       "      <td>1.000000</td>\n",
       "    </tr>\n",
       "  </tbody>\n",
       "</table>\n",
       "</div>"
      ],
      "text/plain": [
       "            difficulty    attack   defense     magic\n",
       "difficulty    1.000000 -0.194008 -0.310971  0.308174\n",
       "attack       -0.194008  1.000000 -0.178120 -0.828016\n",
       "defense      -0.310971 -0.178120  1.000000 -0.131800\n",
       "magic         0.308174 -0.828016 -0.131800  1.000000"
      ]
     },
     "execution_count": 179,
     "metadata": {},
     "output_type": "execute_result"
    }
   ],
   "source": [
    "df[[\"difficulty\",\"attack\",\"defense\",\"magic\"]].corr(method='pearson')"
   ]
  },
  {
   "cell_type": "code",
   "execution_count": 180,
   "metadata": {
    "collapsed": false
   },
   "outputs": [
    {
     "data": {
      "image/png": "[encoded data removed]",
      "text/plain": [
       "<matplotlib.figure.Figure at 0x11ae81e10>"
      ]
     },
     "metadata": {},
     "output_type": "display_data"
    }
   ],
   "source": [
    "sns.heatmap(df[[\"difficulty\",\"attack\",\"defense\",\"magic\"]].corr(method='pearson'))\n",
    "plt.show()"
   ]
  },
  {
   "cell_type": "code",
   "execution_count": 181,
   "metadata": {
    "collapsed": false
   },
   "outputs": [
    {
     "name": "stdout",
     "output_type": "stream",
     "text": [
      "(-0.19400783573555302, 0.023109157613865467)\n",
      "(-0.31097050809761989, 0.00021679150909228914)\n",
      "(0.3081741957747251, 0.00024867946587844831)\n"
     ]
    }
   ],
   "source": [
    "print(scipy.stats.pearsonr(df[\"difficulty\"], df[\"attack\"])) # significant weak negative correlation\n",
    "print(scipy.stats.pearsonr(df[\"difficulty\"], df[\"defense\"])) # significant weak negative correlation\n",
    "print(scipy.stats.pearsonr(df[\"difficulty\"], df[\"magic\"])) # significant weak positive correlation"
   ]
  },
  {
   "cell_type": "code",
   "execution_count": 182,
   "metadata": {
    "collapsed": false
   },
   "outputs": [
    {
     "name": "stdout",
     "output_type": "stream",
     "text": [
      "(-0.17811991342786959, 0.03730409391972505)\n",
      "(-0.82801553843011422, 9.9003928907948432e-36)\n"
     ]
    }
   ],
   "source": [
    "print(scipy.stats.pearsonr(df[\"attack\"], df[\"defense\"])) # significant weak negative correlation\n",
    "print(scipy.stats.pearsonr(df[\"attack\"], df[\"magic\"])) # significant strong negative correlation"
   ]
  },
  {
   "cell_type": "code",
   "execution_count": 183,
   "metadata": {
    "collapsed": false
   },
   "outputs": [
    {
     "name": "stdout",
     "output_type": "stream",
     "text": [
      "(-0.13179968744554141, 0.1247233505738516)\n"
     ]
    }
   ],
   "source": [
    "print(scipy.stats.pearsonr(df[\"defense\"], df[\"magic\"])) # Not significant weak negative correlation"
   ]
  },
  {
   "cell_type": "code",
   "execution_count": 184,
   "metadata": {
    "collapsed": false
   },
   "outputs": [
    {
     "data": {
      "image/png": "[encoded data removed]",
      "text/plain": [
       "<matplotlib.figure.Figure at 0x1168af390>"
      ]
     },
     "metadata": {},
     "output_type": "display_data"
    }
   ],
   "source": [
    "plt.subplot(1, 4, 1)\n",
    "plt.title(\"Difficulty Level\")\n",
    "sns.boxplot(df[\"difficulty\"],orient = \"v\")\n",
    "plt.ylim([0 , 12])\n",
    "plt.subplot(1, 4, 2)\n",
    "plt.title(\"Attack Level\")\n",
    "sns.boxplot(df[\"attack\"],orient = \"v\")\n",
    "plt.ylim([0 , 12])\n",
    "plt.subplot(1, 4, 3)\n",
    "plt.title(\"Defense Level\")\n",
    "sns.boxplot(df[\"defense\"],orient = \"v\")\n",
    "plt.ylim([0 , 12])\n",
    "plt.subplot(1, 4, 4)\n",
    "plt.title(\"Magic Level\")\n",
    "sns.boxplot(df[\"magic\"],orient = \"v\")\n",
    "plt.ylim([0 , 12])\n",
    "plt.tight_layout()\n",
    "plt.show()"
   ]
  },
  {
   "cell_type": "markdown",
   "metadata": {
    "collapsed": true
   },
   "source": [
    "Difficulty, attack, defense, and magic levels were all on a scale of 1 to 10. difficulty, attack, and magic had a medium around 6, while defense has the lowest medium at 5 - the distribution of defense was also lowered than the others. Defense and difficulty levels were negatively associated with each other (-0.31). Difficulty was positively related to magic (0.31). Attack was strongly negatively associated with magic (-0.83). Only difficulty and magic is negatively correlated with each other. "
   ]
  },
  {
   "cell_type": "code",
   "execution_count": 185,
   "metadata": {
    "collapsed": false
   },
   "outputs": [
    {
     "data": {
      "text/plain": [
       "full    137\n",
       "Name: format, dtype: int64"
      ]
     },
     "execution_count": 185,
     "metadata": {},
     "output_type": "execute_result"
    }
   ],
   "source": [
    "# all champions have a format of full - skip format\n",
    "pd.read_sql_query(\"\"\"SELECT * FROM format\"\"\", conn)[\"format\"].value_counts()"
   ]
  },
  {
   "cell_type": "code",
   "execution_count": 186,
   "metadata": {
    "collapsed": false
   },
   "outputs": [],
   "source": [
    "# partype data \n",
    "df1 = pd.read_sql_query(\"\"\"SELECT * FROM partype\"\"\", conn)"
   ]
  },
  {
   "cell_type": "code",
   "execution_count": 187,
   "metadata": {
    "collapsed": false
   },
   "outputs": [
    {
     "data": {
      "text/html": [
       "<div>\n",
       "<style>\n",
       "    .dataframe thead tr:only-child th {\n",
       "        text-align: right;\n",
       "    }\n",
       "\n",
       "    .dataframe thead th {\n",
       "        text-align: left;\n",
       "    }\n",
       "\n",
       "    .dataframe tbody tr th {\n",
       "        vertical-align: top;\n",
       "    }\n",
       "</style>\n",
       "<table border=\"1\" class=\"dataframe\">\n",
       "  <thead>\n",
       "    <tr style=\"text-align: right;\">\n",
       "      <th></th>\n",
       "      <th>partype</th>\n",
       "      <th>id</th>\n",
       "    </tr>\n",
       "  </thead>\n",
       "  <tbody>\n",
       "    <tr>\n",
       "      <th>0</th>\n",
       "      <td>Mana</td>\n",
       "      <td>1</td>\n",
       "    </tr>\n",
       "    <tr>\n",
       "      <th>1</th>\n",
       "      <td>Mana</td>\n",
       "      <td>10</td>\n",
       "    </tr>\n",
       "    <tr>\n",
       "      <th>2</th>\n",
       "      <td>Mana</td>\n",
       "      <td>101</td>\n",
       "    </tr>\n",
       "  </tbody>\n",
       "</table>\n",
       "</div>"
      ],
      "text/plain": [
       "  partype   id\n",
       "0    Mana    1\n",
       "1    Mana   10\n",
       "2    Mana  101"
      ]
     },
     "execution_count": 187,
     "metadata": {},
     "output_type": "execute_result"
    }
   ],
   "source": [
    "df1.head(3)"
   ]
  },
  {
   "cell_type": "code",
   "execution_count": 188,
   "metadata": {
    "collapsed": false
   },
   "outputs": [],
   "source": [
    "graph = df1[\"partype\"].value_counts().reset_index()"
   ]
  },
  {
   "cell_type": "code",
   "execution_count": 189,
   "metadata": {
    "collapsed": true
   },
   "outputs": [],
   "source": [
    "graph[\"percent\"] = graph[\"partype\"]/137.*100"
   ]
  },
  {
   "cell_type": "code",
   "execution_count": 190,
   "metadata": {
    "collapsed": false
   },
   "outputs": [
    {
     "data": {
      "text/html": [
       "<div>\n",
       "<style>\n",
       "    .dataframe thead tr:only-child th {\n",
       "        text-align: right;\n",
       "    }\n",
       "\n",
       "    .dataframe thead th {\n",
       "        text-align: left;\n",
       "    }\n",
       "\n",
       "    .dataframe tbody tr th {\n",
       "        vertical-align: top;\n",
       "    }\n",
       "</style>\n",
       "<table border=\"1\" class=\"dataframe\">\n",
       "  <thead>\n",
       "    <tr style=\"text-align: right;\">\n",
       "      <th></th>\n",
       "      <th>index</th>\n",
       "      <th>partype</th>\n",
       "      <th>percent</th>\n",
       "    </tr>\n",
       "  </thead>\n",
       "  <tbody>\n",
       "    <tr>\n",
       "      <th>0</th>\n",
       "      <td>Mana</td>\n",
       "      <td>115</td>\n",
       "      <td>83.941606</td>\n",
       "    </tr>\n",
       "    <tr>\n",
       "      <th>1</th>\n",
       "      <td>Energy</td>\n",
       "      <td>5</td>\n",
       "      <td>3.649635</td>\n",
       "    </tr>\n",
       "    <tr>\n",
       "      <th>2</th>\n",
       "      <td>None</td>\n",
       "      <td>5</td>\n",
       "      <td>3.649635</td>\n",
       "    </tr>\n",
       "    <tr>\n",
       "      <th>3</th>\n",
       "      <td>Fury</td>\n",
       "      <td>4</td>\n",
       "      <td>2.919708</td>\n",
       "    </tr>\n",
       "    <tr>\n",
       "      <th>4</th>\n",
       "      <td>Blood Well</td>\n",
       "      <td>1</td>\n",
       "      <td>0.729927</td>\n",
       "    </tr>\n",
       "    <tr>\n",
       "      <th>5</th>\n",
       "      <td>Flow</td>\n",
       "      <td>1</td>\n",
       "      <td>0.729927</td>\n",
       "    </tr>\n",
       "    <tr>\n",
       "      <th>6</th>\n",
       "      <td>Ferocity</td>\n",
       "      <td>1</td>\n",
       "      <td>0.729927</td>\n",
       "    </tr>\n",
       "    <tr>\n",
       "      <th>7</th>\n",
       "      <td>Heat</td>\n",
       "      <td>1</td>\n",
       "      <td>0.729927</td>\n",
       "    </tr>\n",
       "    <tr>\n",
       "      <th>8</th>\n",
       "      <td>Rage</td>\n",
       "      <td>1</td>\n",
       "      <td>0.729927</td>\n",
       "    </tr>\n",
       "    <tr>\n",
       "      <th>9</th>\n",
       "      <td>Crimson Rush</td>\n",
       "      <td>1</td>\n",
       "      <td>0.729927</td>\n",
       "    </tr>\n",
       "    <tr>\n",
       "      <th>10</th>\n",
       "      <td>Shield</td>\n",
       "      <td>1</td>\n",
       "      <td>0.729927</td>\n",
       "    </tr>\n",
       "    <tr>\n",
       "      <th>11</th>\n",
       "      <td>Courage</td>\n",
       "      <td>1</td>\n",
       "      <td>0.729927</td>\n",
       "    </tr>\n",
       "  </tbody>\n",
       "</table>\n",
       "</div>"
      ],
      "text/plain": [
       "           index  partype    percent\n",
       "0           Mana      115  83.941606\n",
       "1         Energy        5   3.649635\n",
       "2           None        5   3.649635\n",
       "3           Fury        4   2.919708\n",
       "4     Blood Well        1   0.729927\n",
       "5           Flow        1   0.729927\n",
       "6       Ferocity        1   0.729927\n",
       "7           Heat        1   0.729927\n",
       "8           Rage        1   0.729927\n",
       "9   Crimson Rush        1   0.729927\n",
       "10        Shield        1   0.729927\n",
       "11       Courage        1   0.729927"
      ]
     },
     "execution_count": 190,
     "metadata": {},
     "output_type": "execute_result"
    }
   ],
   "source": [
    "graph"
   ]
  },
  {
   "cell_type": "code",
   "execution_count": 191,
   "metadata": {
    "collapsed": false
   },
   "outputs": [
    {
     "data": {
      "image/png": "[encoded data removed]",
      "text/plain": [
       "<matplotlib.figure.Figure at 0x11ae81d10>"
      ]
     },
     "metadata": {},
     "output_type": "display_data"
    }
   ],
   "source": [
    "sns.barplot(y = \"index\", x = \"partype\", data = graph, orient = \"h\")\n",
    "plt.title(\"Ranking of Partype\")\n",
    "plt.show()"
   ]
  },
  {
   "cell_type": "markdown",
   "metadata": {},
   "source": [
    "The most prevalent types were mana (84%), energy (4%), none (4%), and fury (3%). All other types only had one hero (< 1%)"
   ]
  },
  {
   "cell_type": "code",
   "execution_count": 192,
   "metadata": {
    "collapsed": false
   },
   "outputs": [],
   "source": [
    "df = pd.merge(df, df1, how = \"inner\", on = \"id\")"
   ]
  },
  {
   "cell_type": "code",
   "execution_count": 193,
   "metadata": {
    "collapsed": false
   },
   "outputs": [],
   "source": [
    "df2 = pd.read_sql_query(\"\"\"SELECT id, no_skins FROM skins\"\"\", conn)"
   ]
  },
  {
   "cell_type": "code",
   "execution_count": 194,
   "metadata": {
    "collapsed": false
   },
   "outputs": [
    {
     "data": {
      "text/plain": [
       "min        2.000000\n",
       "mean       6.671533\n",
       "median     7.000000\n",
       "max       11.000000\n",
       "Name: no_skins, dtype: float64"
      ]
     },
     "execution_count": 194,
     "metadata": {},
     "output_type": "execute_result"
    }
   ],
   "source": [
    "df2[\"no_skins\"].aggregate([\"min\",\"mean\",\"median\",\"max\"])"
   ]
  },
  {
   "cell_type": "code",
   "execution_count": 195,
   "metadata": {
    "collapsed": false
   },
   "outputs": [
    {
     "data": {
      "image/png": "[encoded data removed]",
      "text/plain": [
       "<matplotlib.figure.Figure at 0x11b6a2950>"
      ]
     },
     "metadata": {},
     "output_type": "display_data"
    }
   ],
   "source": [
    "sns.boxplot(y = \"no_skins\", data = df2)\n",
    "plt.ylim([0,12])\n",
    "plt.title(\"Distribution of No. of Skins\")\n",
    "plt.show()"
   ]
  },
  {
   "cell_type": "code",
   "execution_count": 196,
   "metadata": {
    "collapsed": false
   },
   "outputs": [],
   "source": [
    "df = pd.merge(df, df2, how = \"inner\", on = \"id\")"
   ]
  },
  {
   "cell_type": "code",
   "execution_count": 197,
   "metadata": {
    "collapsed": false
   },
   "outputs": [
    {
     "data": {
      "text/html": [
       "<div>\n",
       "<style>\n",
       "    .dataframe thead tr:only-child th {\n",
       "        text-align: right;\n",
       "    }\n",
       "\n",
       "    .dataframe thead th {\n",
       "        text-align: left;\n",
       "    }\n",
       "\n",
       "    .dataframe tbody tr th {\n",
       "        vertical-align: top;\n",
       "    }\n",
       "</style>\n",
       "<table border=\"1\" class=\"dataframe\">\n",
       "  <thead>\n",
       "    <tr style=\"text-align: right;\">\n",
       "      <th></th>\n",
       "      <th>title</th>\n",
       "      <th>id</th>\n",
       "      <th>name</th>\n",
       "      <th>difficulty</th>\n",
       "      <th>attack</th>\n",
       "      <th>defense</th>\n",
       "      <th>magic</th>\n",
       "      <th>partype</th>\n",
       "      <th>no_skins</th>\n",
       "    </tr>\n",
       "  </thead>\n",
       "  <tbody>\n",
       "    <tr>\n",
       "      <th>0</th>\n",
       "      <td>the Dark Child</td>\n",
       "      <td>1</td>\n",
       "      <td>Annie</td>\n",
       "      <td>6</td>\n",
       "      <td>2</td>\n",
       "      <td>3</td>\n",
       "      <td>10</td>\n",
       "      <td>Mana</td>\n",
       "      <td>11</td>\n",
       "    </tr>\n",
       "    <tr>\n",
       "      <th>1</th>\n",
       "      <td>The Judicator</td>\n",
       "      <td>10</td>\n",
       "      <td>Kayle</td>\n",
       "      <td>7</td>\n",
       "      <td>6</td>\n",
       "      <td>6</td>\n",
       "      <td>7</td>\n",
       "      <td>Mana</td>\n",
       "      <td>9</td>\n",
       "    </tr>\n",
       "  </tbody>\n",
       "</table>\n",
       "</div>"
      ],
      "text/plain": [
       "            title  id   name  difficulty  attack  defense  magic partype  \\\n",
       "0  the Dark Child   1  Annie           6       2        3     10    Mana   \n",
       "1   The Judicator  10  Kayle           7       6        6      7    Mana   \n",
       "\n",
       "   no_skins  \n",
       "0        11  \n",
       "1         9  "
      ]
     },
     "execution_count": 197,
     "metadata": {},
     "output_type": "execute_result"
    }
   ],
   "source": [
    "df.head(2)"
   ]
  },
  {
   "cell_type": "markdown",
   "metadata": {},
   "source": [
    "On average, each character has 7 skins. The no ranges from 2 to 11. "
   ]
  },
  {
   "cell_type": "code",
   "execution_count": 213,
   "metadata": {
    "collapsed": false
   },
   "outputs": [],
   "source": [
    "df3 = pd.read_sql_query(\"\"\"SELECT *\n",
    "                           FROM spells\"\"\", conn)"
   ]
  },
  {
   "cell_type": "code",
   "execution_count": 214,
   "metadata": {
    "collapsed": false
   },
   "outputs": [
    {
     "data": {
      "text/plain": [
       "['id',\n",
       " 'armorperlevel',\n",
       " 'attackdamage',\n",
       " 'mpperlevel',\n",
       " 'attackspeedoffset',\n",
       " 'mp',\n",
       " 'armor',\n",
       " 'hp',\n",
       " 'hpregenperlevel',\n",
       " 'attackspeedperlevel',\n",
       " 'attackrange',\n",
       " 'movespeed',\n",
       " 'attackdamageperlevel',\n",
       " 'mpregenperlevel',\n",
       " 'critperlevel',\n",
       " 'spellblockperlevel',\n",
       " 'crit',\n",
       " 'mpregen',\n",
       " 'spellblock',\n",
       " 'hpregen',\n",
       " 'hpperlevel']"
      ]
     },
     "execution_count": 214,
     "metadata": {},
     "output_type": "execute_result"
    }
   ],
   "source": [
    "list(df3)\n",
    "# starting stats: attack damage, mp, armor, hp, attack range, move speed, crit, mpregen, \n",
    "# spellblock, hpreg, attackspeed offset\n",
    "# leveling up stats: attackdamagerperlevel, mpperlevel, armorperlevel, hpperlevel, critperlevel, \n",
    "# mpregenperlevel, spellblockperlevel, hpregperlvel, attackspeedperlevel"
   ]
  },
  {
   "cell_type": "code",
   "execution_count": 217,
   "metadata": {
    "collapsed": false
   },
   "outputs": [
    {
     "data": {
      "text/html": [
       "<div>\n",
       "<style>\n",
       "    .dataframe thead tr:only-child th {\n",
       "        text-align: right;\n",
       "    }\n",
       "\n",
       "    .dataframe thead th {\n",
       "        text-align: left;\n",
       "    }\n",
       "\n",
       "    .dataframe tbody tr th {\n",
       "        vertical-align: top;\n",
       "    }\n",
       "</style>\n",
       "<table border=\"1\" class=\"dataframe\">\n",
       "  <thead>\n",
       "    <tr style=\"text-align: right;\">\n",
       "      <th></th>\n",
       "      <th>hp</th>\n",
       "      <th>hpperlevel</th>\n",
       "      <th>hpregen</th>\n",
       "      <th>hpregenperlevel</th>\n",
       "    </tr>\n",
       "  </thead>\n",
       "  <tbody>\n",
       "    <tr>\n",
       "      <th>min</th>\n",
       "      <td>340.000000</td>\n",
       "      <td>65.000000</td>\n",
       "      <td>2.50000</td>\n",
       "      <td>0.300000</td>\n",
       "    </tr>\n",
       "    <tr>\n",
       "      <th>median</th>\n",
       "      <td>550.000000</td>\n",
       "      <td>85.000000</td>\n",
       "      <td>6.92400</td>\n",
       "      <td>0.600000</td>\n",
       "    </tr>\n",
       "    <tr>\n",
       "      <th>mean</th>\n",
       "      <td>549.363796</td>\n",
       "      <td>84.337591</td>\n",
       "      <td>6.88762</td>\n",
       "      <td>0.656934</td>\n",
       "    </tr>\n",
       "    <tr>\n",
       "      <th>max</th>\n",
       "      <td>625.640000</td>\n",
       "      <td>106.000000</td>\n",
       "      <td>10.18000</td>\n",
       "      <td>1.750000</td>\n",
       "    </tr>\n",
       "  </tbody>\n",
       "</table>\n",
       "</div>"
      ],
      "text/plain": [
       "                hp  hpperlevel   hpregen  hpregenperlevel\n",
       "min     340.000000   65.000000   2.50000         0.300000\n",
       "median  550.000000   85.000000   6.92400         0.600000\n",
       "mean    549.363796   84.337591   6.88762         0.656934\n",
       "max     625.640000  106.000000  10.18000         1.750000"
      ]
     },
     "execution_count": 217,
     "metadata": {},
     "output_type": "execute_result"
    }
   ],
   "source": [
    "# HP - hp, hpperleevel, hpregen, hprenperlel\n",
    "df3[[\"hp\",\"hpperlevel\",\"hpregen\",\"hpregenperlevel\"]].aggregate([\"min\",\"median\",\"mean\",\"max\"])"
   ]
  },
  {
   "cell_type": "code",
   "execution_count": 268,
   "metadata": {
    "collapsed": false
   },
   "outputs": [
    {
     "data": {
      "image/png": "[encoded data removed]",
      "text/plain": [
       "<matplotlib.figure.Figure at 0x11676b090>"
      ]
     },
     "metadata": {},
     "output_type": "display_data"
    }
   ],
   "source": [
    "plt.subplot(2,2,1)\n",
    "plt.title(\"hp\")\n",
    "sns.violinplot(df3[[\"hp\"]],color = \"green\")\n",
    "plt.subplot(2,2,2)\n",
    "plt.title(\"hp increase per level\")\n",
    "sns.violinplot(df3[[\"hpperlevel\"]])\n",
    "plt.subplot(2,2,3)\n",
    "plt.title(\"hp regeneration per sec\")\n",
    "sns.violinplot(df3[[\"hpregen\"]], color = \"green\")\n",
    "plt.subplot(2,2,4)\n",
    "plt.title(\"hp regeneration increase per level\")\n",
    "sns.violinplot(df3[[\"hpregenperlevel\"]])\n",
    "plt.tight_layout()\n",
    "plt.show()"
   ]
  },
  {
   "cell_type": "code",
   "execution_count": 269,
   "metadata": {
    "collapsed": false
   },
   "outputs": [
    {
     "data": {
      "text/html": [
       "<div>\n",
       "<style>\n",
       "    .dataframe thead tr:only-child th {\n",
       "        text-align: right;\n",
       "    }\n",
       "\n",
       "    .dataframe thead th {\n",
       "        text-align: left;\n",
       "    }\n",
       "\n",
       "    .dataframe tbody tr th {\n",
       "        vertical-align: top;\n",
       "    }\n",
       "</style>\n",
       "<table border=\"1\" class=\"dataframe\">\n",
       "  <thead>\n",
       "    <tr style=\"text-align: right;\">\n",
       "      <th></th>\n",
       "      <th>hp</th>\n",
       "      <th>hpperlevel</th>\n",
       "      <th>hpregen</th>\n",
       "      <th>hpregenperlevel</th>\n",
       "    </tr>\n",
       "  </thead>\n",
       "  <tbody>\n",
       "    <tr>\n",
       "      <th>hp</th>\n",
       "      <td>1.000000</td>\n",
       "      <td>0.682190</td>\n",
       "      <td>0.552504</td>\n",
       "      <td>0.309702</td>\n",
       "    </tr>\n",
       "    <tr>\n",
       "      <th>hpperlevel</th>\n",
       "      <td>0.682190</td>\n",
       "      <td>1.000000</td>\n",
       "      <td>0.474542</td>\n",
       "      <td>0.221856</td>\n",
       "    </tr>\n",
       "    <tr>\n",
       "      <th>hpregen</th>\n",
       "      <td>0.552504</td>\n",
       "      <td>0.474542</td>\n",
       "      <td>1.000000</td>\n",
       "      <td>0.365545</td>\n",
       "    </tr>\n",
       "    <tr>\n",
       "      <th>hpregenperlevel</th>\n",
       "      <td>0.309702</td>\n",
       "      <td>0.221856</td>\n",
       "      <td>0.365545</td>\n",
       "      <td>1.000000</td>\n",
       "    </tr>\n",
       "  </tbody>\n",
       "</table>\n",
       "</div>"
      ],
      "text/plain": [
       "                       hp  hpperlevel   hpregen  hpregenperlevel\n",
       "hp               1.000000    0.682190  0.552504         0.309702\n",
       "hpperlevel       0.682190    1.000000  0.474542         0.221856\n",
       "hpregen          0.552504    0.474542  1.000000         0.365545\n",
       "hpregenperlevel  0.309702    0.221856  0.365545         1.000000"
      ]
     },
     "execution_count": 269,
     "metadata": {},
     "output_type": "execute_result"
    }
   ],
   "source": [
    "HP = df3[[\"hp\",\"hpperlevel\",\"hpregen\",\"hpregenperlevel\"]]\n",
    "HP.corr(method='pearson')"
   ]
  },
  {
   "cell_type": "code",
   "execution_count": 297,
   "metadata": {
    "collapsed": false
   },
   "outputs": [
    {
     "data": {
      "image/png": "[encoded data removed]",
      "text/plain": [
       "<matplotlib.figure.Figure at 0x11ad60650>"
      ]
     },
     "metadata": {},
     "output_type": "display_data"
    }
   ],
   "source": [
    "sns.heatmap(HP.corr(method='pearson'))\n",
    "plt.show()"
   ]
  },
  {
   "cell_type": "code",
   "execution_count": 295,
   "metadata": {
    "collapsed": false
   },
   "outputs": [],
   "source": [
    "def correlation_p_value(data):\n",
    "    a = [(x, y) for x in list(data) for y in list(data) if x != y]\n",
    "    compare = list()\n",
    "    for (x,y) in a:\n",
    "        if (x, y) not in compare and (y, x) not in compare:\n",
    "            compare.append((x, y))\n",
    "    for (x, y) in compare:\n",
    "        print x + \" and \" + y\n",
    "        print scipy.stats.pearsonr(data[x], data[y])\n",
    "        print \"=\"*50"
   ]
  },
  {
   "cell_type": "code",
   "execution_count": 296,
   "metadata": {
    "collapsed": false
   },
   "outputs": [
    {
     "name": "stdout",
     "output_type": "stream",
     "text": [
      "hp and hpperlevel\n",
      "(0.6821900765410025, 4.378891792773511e-20)\n",
      "==================================================\n",
      "hp and hpregen\n",
      "(0.5525044891600337, 2.5683036444474798e-12)\n",
      "==================================================\n",
      "hp and hpregenperlevel\n",
      "(0.30970170339984615, 0.00023075828682034337)\n",
      "==================================================\n",
      "hpperlevel and hpregen\n",
      "(0.47454247987692116, 4.6778491164153352e-09)\n",
      "==================================================\n",
      "hpperlevel and hpregenperlevel\n",
      "(0.2218561078212575, 0.0091734961141551902)\n",
      "==================================================\n",
      "hpregen and hpregenperlevel\n",
      "(0.36554459795822664, 1.1211707508660931e-05)\n",
      "==================================================\n"
     ]
    }
   ],
   "source": [
    "correlation_p_value(HP)"
   ]
  },
  {
   "cell_type": "markdown",
   "metadata": {
    "collapsed": false
   },
   "source": [
    "All HP stats are positively and significantly correlated with each other. The range of starting HP varies widely (350 - 625). Majority of the champions have a total HP between 500 to 600 with a mean of 550. per level increase in HP also varied from 60 to 100 with a mean of 85. "
   ]
  },
  {
   "cell_type": "code",
   "execution_count": 300,
   "metadata": {
    "collapsed": false
   },
   "outputs": [
    {
     "data": {
      "text/html": [
       "<div>\n",
       "<style>\n",
       "    .dataframe thead tr:only-child th {\n",
       "        text-align: right;\n",
       "    }\n",
       "\n",
       "    .dataframe thead th {\n",
       "        text-align: left;\n",
       "    }\n",
       "\n",
       "    .dataframe tbody tr th {\n",
       "        vertical-align: top;\n",
       "    }\n",
       "</style>\n",
       "<table border=\"1\" class=\"dataframe\">\n",
       "  <thead>\n",
       "    <tr style=\"text-align: right;\">\n",
       "      <th></th>\n",
       "      <th>mp</th>\n",
       "      <th>mpperlevel</th>\n",
       "      <th>mpregen</th>\n",
       "      <th>mpregenperlevel</th>\n",
       "    </tr>\n",
       "  </thead>\n",
       "  <tbody>\n",
       "    <tr>\n",
       "      <th>min</th>\n",
       "      <td>0.000000</td>\n",
       "      <td>0.000000</td>\n",
       "      <td>0.000000</td>\n",
       "      <td>0.000000</td>\n",
       "    </tr>\n",
       "    <tr>\n",
       "      <th>median</th>\n",
       "      <td>307.200000</td>\n",
       "      <td>40.000000</td>\n",
       "      <td>7.000000</td>\n",
       "      <td>0.650000</td>\n",
       "    </tr>\n",
       "    <tr>\n",
       "      <th>mean</th>\n",
       "      <td>286.983212</td>\n",
       "      <td>36.748175</td>\n",
       "      <td>7.935752</td>\n",
       "      <td>0.557482</td>\n",
       "    </tr>\n",
       "    <tr>\n",
       "      <th>max</th>\n",
       "      <td>450.000000</td>\n",
       "      <td>67.000000</td>\n",
       "      <td>50.000000</td>\n",
       "      <td>1.000000</td>\n",
       "    </tr>\n",
       "  </tbody>\n",
       "</table>\n",
       "</div>"
      ],
      "text/plain": [
       "                mp  mpperlevel    mpregen  mpregenperlevel\n",
       "min       0.000000    0.000000   0.000000         0.000000\n",
       "median  307.200000   40.000000   7.000000         0.650000\n",
       "mean    286.983212   36.748175   7.935752         0.557482\n",
       "max     450.000000   67.000000  50.000000         1.000000"
      ]
     },
     "execution_count": 300,
     "metadata": {},
     "output_type": "execute_result"
    }
   ],
   "source": [
    "MP = df3[[\"mp\",\"mpperlevel\",\"mpregen\",\"mpregenperlevel\"]]\n",
    "MP.aggregate([\"min\",\"median\",\"mean\",\"max\"])"
   ]
  },
  {
   "cell_type": "code",
   "execution_count": 302,
   "metadata": {
    "collapsed": false
   },
   "outputs": [
    {
     "data": {
      "text/plain": [
       "(6, 21)"
      ]
     },
     "execution_count": 302,
     "metadata": {},
     "output_type": "execute_result"
    }
   ],
   "source": [
    "df3[df3[\"mp\"]==0].shape\n",
    "# 6 champion with a 0 for MP"
   ]
  },
  {
   "cell_type": "code",
   "execution_count": null,
   "metadata": {
    "collapsed": true
   },
   "outputs": [],
   "source": [
    "plt.subplot(2,2,1)\n",
    "plt.title(\"hp\")\n",
    "sns.violinplot(df3[[\"hp\"]],color = \"green\")\n",
    "plt.subplot(2,2,2)\n",
    "plt.title(\"hp increase per level\")\n",
    "sns.violinplot(df3[[\"hpperlevel\"]])\n",
    "plt.subplot(2,2,3)\n",
    "plt.title(\"hp regeneration per sec\")\n",
    "sns.violinplot(df3[[\"hpregen\"]], color = \"green\")\n",
    "plt.subplot(2,2,4)\n",
    "plt.title(\"hp regeneration increase per level\")\n",
    "sns.violinplot(df3[[\"hpregenperlevel\"]])\n",
    "plt.tight_layout()\n",
    "plt.show()"
   ]
  },
  {
   "cell_type": "code",
   "execution_count": null,
   "metadata": {
    "collapsed": true
   },
   "outputs": [],
   "source": []
  },
  {
   "cell_type": "code",
   "execution_count": null,
   "metadata": {
    "collapsed": true
   },
   "outputs": [],
   "source": []
  },
  {
   "cell_type": "code",
   "execution_count": null,
   "metadata": {
    "collapsed": false
   },
   "outputs": [],
   "source": []
  },
  {
   "cell_type": "code",
   "execution_count": 288,
   "metadata": {
    "collapsed": false
   },
   "outputs": [],
   "source": []
  },
  {
   "cell_type": "code",
   "execution_count": null,
   "metadata": {
    "collapsed": false
   },
   "outputs": [],
   "source": []
  },
  {
   "cell_type": "code",
   "execution_count": 290,
   "metadata": {
    "collapsed": false
   },
   "outputs": [],
   "source": []
  },
  {
   "cell_type": "code",
   "execution_count": null,
   "metadata": {
    "collapsed": false
   },
   "outputs": [],
   "source": []
  },
  {
   "cell_type": "code",
   "execution_count": null,
   "metadata": {
    "collapsed": true
   },
   "outputs": [],
   "source": []
  },
  {
   "cell_type": "code",
   "execution_count": null,
   "metadata": {
    "collapsed": true
   },
   "outputs": [],
   "source": []
  },
  {
   "cell_type": "code",
   "execution_count": null,
   "metadata": {
    "collapsed": true
   },
   "outputs": [],
   "source": []
  },
  {
   "cell_type": "code",
   "execution_count": null,
   "metadata": {
    "collapsed": true
   },
   "outputs": [],
   "source": []
  },
  {
   "cell_type": "code",
   "execution_count": 231,
   "metadata": {
    "collapsed": false
   },
   "outputs": [
    {
     "data": {
      "text/html": [
       "<div>\n",
       "<style>\n",
       "    .dataframe thead tr:only-child th {\n",
       "        text-align: right;\n",
       "    }\n",
       "\n",
       "    .dataframe thead th {\n",
       "        text-align: left;\n",
       "    }\n",
       "\n",
       "    .dataframe tbody tr th {\n",
       "        vertical-align: top;\n",
       "    }\n",
       "</style>\n",
       "<table border=\"1\" class=\"dataframe\">\n",
       "  <thead>\n",
       "    <tr style=\"text-align: right;\">\n",
       "      <th></th>\n",
       "      <th>hpperlevel</th>\n",
       "      <th>hpregen</th>\n",
       "      <th>hpregenperlevel</th>\n",
       "    </tr>\n",
       "  </thead>\n",
       "  <tbody>\n",
       "    <tr>\n",
       "      <th>0</th>\n",
       "      <td>76.00</td>\n",
       "      <td>5.424</td>\n",
       "      <td>0.55</td>\n",
       "    </tr>\n",
       "    <tr>\n",
       "      <th>1</th>\n",
       "      <td>93.00</td>\n",
       "      <td>8.260</td>\n",
       "      <td>0.75</td>\n",
       "    </tr>\n",
       "    <tr>\n",
       "      <th>2</th>\n",
       "      <td>80.00</td>\n",
       "      <td>5.424</td>\n",
       "      <td>0.55</td>\n",
       "    </tr>\n",
       "    <tr>\n",
       "      <th>3</th>\n",
       "      <td>95.00</td>\n",
       "      <td>8.600</td>\n",
       "      <td>0.80</td>\n",
       "    </tr>\n",
       "    <tr>\n",
       "      <th>4</th>\n",
       "      <td>80.00</td>\n",
       "      <td>6.508</td>\n",
       "      <td>0.60</td>\n",
       "    </tr>\n",
       "    <tr>\n",
       "      <th>5</th>\n",
       "      <td>84.00</td>\n",
       "      <td>6.676</td>\n",
       "      <td>0.70</td>\n",
       "    </tr>\n",
       "    <tr>\n",
       "      <th>6</th>\n",
       "      <td>86.00</td>\n",
       "      <td>8.176</td>\n",
       "      <td>0.70</td>\n",
       "    </tr>\n",
       "    <tr>\n",
       "      <th>7</th>\n",
       "      <td>86.00</td>\n",
       "      <td>8.092</td>\n",
       "      <td>0.65</td>\n",
       "    </tr>\n",
       "    <tr>\n",
       "      <th>8</th>\n",
       "      <td>90.00</td>\n",
       "      <td>7.000</td>\n",
       "      <td>0.50</td>\n",
       "    </tr>\n",
       "    <tr>\n",
       "      <th>9</th>\n",
       "      <td>92.00</td>\n",
       "      <td>7.592</td>\n",
       "      <td>0.65</td>\n",
       "    </tr>\n",
       "    <tr>\n",
       "      <th>10</th>\n",
       "      <td>82.00</td>\n",
       "      <td>5.424</td>\n",
       "      <td>0.55</td>\n",
       "    </tr>\n",
       "    <tr>\n",
       "      <th>11</th>\n",
       "      <td>86.00</td>\n",
       "      <td>8.374</td>\n",
       "      <td>0.55</td>\n",
       "    </tr>\n",
       "    <tr>\n",
       "      <th>12</th>\n",
       "      <td>78.00</td>\n",
       "      <td>7.842</td>\n",
       "      <td>0.65</td>\n",
       "    </tr>\n",
       "    <tr>\n",
       "      <th>13</th>\n",
       "      <td>95.00</td>\n",
       "      <td>8.500</td>\n",
       "      <td>0.85</td>\n",
       "    </tr>\n",
       "    <tr>\n",
       "      <th>14</th>\n",
       "      <td>85.00</td>\n",
       "      <td>8.250</td>\n",
       "      <td>0.55</td>\n",
       "    </tr>\n",
       "    <tr>\n",
       "      <th>15</th>\n",
       "      <td>80.00</td>\n",
       "      <td>6.258</td>\n",
       "      <td>0.60</td>\n",
       "    </tr>\n",
       "    <tr>\n",
       "      <th>16</th>\n",
       "      <td>74.00</td>\n",
       "      <td>6.008</td>\n",
       "      <td>0.60</td>\n",
       "    </tr>\n",
       "    <tr>\n",
       "      <th>17</th>\n",
       "      <td>82.00</td>\n",
       "      <td>6.176</td>\n",
       "      <td>0.70</td>\n",
       "    </tr>\n",
       "    <tr>\n",
       "      <th>18</th>\n",
       "      <td>106.00</td>\n",
       "      <td>8.678</td>\n",
       "      <td>0.85</td>\n",
       "    </tr>\n",
       "    <tr>\n",
       "      <th>19</th>\n",
       "      <td>90.00</td>\n",
       "      <td>7.000</td>\n",
       "      <td>0.75</td>\n",
       "    </tr>\n",
       "    <tr>\n",
       "      <th>20</th>\n",
       "      <td>85.00</td>\n",
       "      <td>7.510</td>\n",
       "      <td>0.75</td>\n",
       "    </tr>\n",
       "    <tr>\n",
       "      <th>21</th>\n",
       "      <td>100.00</td>\n",
       "      <td>9.846</td>\n",
       "      <td>0.95</td>\n",
       "    </tr>\n",
       "    <tr>\n",
       "      <th>22</th>\n",
       "      <td>90.00</td>\n",
       "      <td>7.344</td>\n",
       "      <td>0.80</td>\n",
       "    </tr>\n",
       "    <tr>\n",
       "      <th>23</th>\n",
       "      <td>75.00</td>\n",
       "      <td>6.924</td>\n",
       "      <td>0.55</td>\n",
       "    </tr>\n",
       "    <tr>\n",
       "      <th>24</th>\n",
       "      <td>86.00</td>\n",
       "      <td>7.000</td>\n",
       "      <td>0.55</td>\n",
       "    </tr>\n",
       "    <tr>\n",
       "      <th>25</th>\n",
       "      <td>90.00</td>\n",
       "      <td>7.428</td>\n",
       "      <td>0.85</td>\n",
       "    </tr>\n",
       "    <tr>\n",
       "      <th>26</th>\n",
       "      <td>85.00</td>\n",
       "      <td>5.424</td>\n",
       "      <td>0.55</td>\n",
       "    </tr>\n",
       "    <tr>\n",
       "      <th>27</th>\n",
       "      <td>78.00</td>\n",
       "      <td>6.508</td>\n",
       "      <td>0.60</td>\n",
       "    </tr>\n",
       "    <tr>\n",
       "      <th>28</th>\n",
       "      <td>80.00</td>\n",
       "      <td>6.500</td>\n",
       "      <td>0.60</td>\n",
       "    </tr>\n",
       "    <tr>\n",
       "      <th>29</th>\n",
       "      <td>73.00</td>\n",
       "      <td>10.180</td>\n",
       "      <td>0.80</td>\n",
       "    </tr>\n",
       "    <tr>\n",
       "      <th>...</th>\n",
       "      <td>...</td>\n",
       "      <td>...</td>\n",
       "      <td>...</td>\n",
       "    </tr>\n",
       "    <tr>\n",
       "      <th>107</th>\n",
       "      <td>85.00</td>\n",
       "      <td>6.192</td>\n",
       "      <td>0.65</td>\n",
       "    </tr>\n",
       "    <tr>\n",
       "      <th>108</th>\n",
       "      <td>76.00</td>\n",
       "      <td>5.424</td>\n",
       "      <td>0.55</td>\n",
       "    </tr>\n",
       "    <tr>\n",
       "      <th>109</th>\n",
       "      <td>85.00</td>\n",
       "      <td>7.426</td>\n",
       "      <td>0.70</td>\n",
       "    </tr>\n",
       "    <tr>\n",
       "      <th>110</th>\n",
       "      <td>83.00</td>\n",
       "      <td>5.424</td>\n",
       "      <td>0.55</td>\n",
       "    </tr>\n",
       "    <tr>\n",
       "      <th>111</th>\n",
       "      <td>80.00</td>\n",
       "      <td>8.008</td>\n",
       "      <td>0.60</td>\n",
       "    </tr>\n",
       "    <tr>\n",
       "      <th>112</th>\n",
       "      <td>75.00</td>\n",
       "      <td>5.500</td>\n",
       "      <td>0.50</td>\n",
       "    </tr>\n",
       "    <tr>\n",
       "      <th>113</th>\n",
       "      <td>80.00</td>\n",
       "      <td>7.400</td>\n",
       "      <td>0.55</td>\n",
       "    </tr>\n",
       "    <tr>\n",
       "      <th>114</th>\n",
       "      <td>90.00</td>\n",
       "      <td>8.928</td>\n",
       "      <td>0.85</td>\n",
       "    </tr>\n",
       "    <tr>\n",
       "      <th>115</th>\n",
       "      <td>75.00</td>\n",
       "      <td>7.000</td>\n",
       "      <td>0.55</td>\n",
       "    </tr>\n",
       "    <tr>\n",
       "      <th>116</th>\n",
       "      <td>90.00</td>\n",
       "      <td>9.012</td>\n",
       "      <td>0.90</td>\n",
       "    </tr>\n",
       "    <tr>\n",
       "      <th>117</th>\n",
       "      <td>80.00</td>\n",
       "      <td>6.008</td>\n",
       "      <td>0.60</td>\n",
       "    </tr>\n",
       "    <tr>\n",
       "      <th>118</th>\n",
       "      <td>99.00</td>\n",
       "      <td>6.000</td>\n",
       "      <td>0.75</td>\n",
       "    </tr>\n",
       "    <tr>\n",
       "      <th>119</th>\n",
       "      <td>90.00</td>\n",
       "      <td>8.000</td>\n",
       "      <td>0.80</td>\n",
       "    </tr>\n",
       "    <tr>\n",
       "      <th>120</th>\n",
       "      <td>89.00</td>\n",
       "      <td>5.500</td>\n",
       "      <td>0.50</td>\n",
       "    </tr>\n",
       "    <tr>\n",
       "      <th>121</th>\n",
       "      <td>84.00</td>\n",
       "      <td>7.008</td>\n",
       "      <td>0.60</td>\n",
       "    </tr>\n",
       "    <tr>\n",
       "      <th>122</th>\n",
       "      <td>87.00</td>\n",
       "      <td>7.842</td>\n",
       "      <td>0.65</td>\n",
       "    </tr>\n",
       "    <tr>\n",
       "      <th>123</th>\n",
       "      <td>80.00</td>\n",
       "      <td>6.424</td>\n",
       "      <td>0.55</td>\n",
       "    </tr>\n",
       "    <tr>\n",
       "      <th>124</th>\n",
       "      <td>73.00</td>\n",
       "      <td>4.000</td>\n",
       "      <td>0.30</td>\n",
       "    </tr>\n",
       "    <tr>\n",
       "      <th>125</th>\n",
       "      <td>100.00</td>\n",
       "      <td>8.000</td>\n",
       "      <td>0.80</td>\n",
       "    </tr>\n",
       "    <tr>\n",
       "      <th>126</th>\n",
       "      <td>85.00</td>\n",
       "      <td>8.342</td>\n",
       "      <td>0.65</td>\n",
       "    </tr>\n",
       "    <tr>\n",
       "      <th>127</th>\n",
       "      <td>79.00</td>\n",
       "      <td>5.592</td>\n",
       "      <td>0.65</td>\n",
       "    </tr>\n",
       "    <tr>\n",
       "      <th>128</th>\n",
       "      <td>84.25</td>\n",
       "      <td>7.840</td>\n",
       "      <td>0.50</td>\n",
       "    </tr>\n",
       "    <tr>\n",
       "      <th>129</th>\n",
       "      <td>87.00</td>\n",
       "      <td>8.428</td>\n",
       "      <td>0.85</td>\n",
       "    </tr>\n",
       "    <tr>\n",
       "      <th>130</th>\n",
       "      <td>80.00</td>\n",
       "      <td>5.608</td>\n",
       "      <td>0.60</td>\n",
       "    </tr>\n",
       "    <tr>\n",
       "      <th>131</th>\n",
       "      <td>75.00</td>\n",
       "      <td>6.000</td>\n",
       "      <td>0.60</td>\n",
       "    </tr>\n",
       "    <tr>\n",
       "      <th>132</th>\n",
       "      <td>90.00</td>\n",
       "      <td>8.510</td>\n",
       "      <td>0.75</td>\n",
       "    </tr>\n",
       "    <tr>\n",
       "      <th>133</th>\n",
       "      <td>86.00</td>\n",
       "      <td>5.340</td>\n",
       "      <td>0.50</td>\n",
       "    </tr>\n",
       "    <tr>\n",
       "      <th>134</th>\n",
       "      <td>82.00</td>\n",
       "      <td>5.924</td>\n",
       "      <td>0.55</td>\n",
       "    </tr>\n",
       "    <tr>\n",
       "      <th>135</th>\n",
       "      <td>85.00</td>\n",
       "      <td>8.500</td>\n",
       "      <td>0.75</td>\n",
       "    </tr>\n",
       "    <tr>\n",
       "      <th>136</th>\n",
       "      <td>79.00</td>\n",
       "      <td>5.424</td>\n",
       "      <td>0.55</td>\n",
       "    </tr>\n",
       "  </tbody>\n",
       "</table>\n",
       "<p>137 rows × 3 columns</p>\n",
       "</div>"
      ],
      "text/plain": [
       "     hpperlevel  hpregen  hpregenperlevel\n",
       "0         76.00    5.424             0.55\n",
       "1         93.00    8.260             0.75\n",
       "2         80.00    5.424             0.55\n",
       "3         95.00    8.600             0.80\n",
       "4         80.00    6.508             0.60\n",
       "5         84.00    6.676             0.70\n",
       "6         86.00    8.176             0.70\n",
       "7         86.00    8.092             0.65\n",
       "8         90.00    7.000             0.50\n",
       "9         92.00    7.592             0.65\n",
       "10        82.00    5.424             0.55\n",
       "11        86.00    8.374             0.55\n",
       "12        78.00    7.842             0.65\n",
       "13        95.00    8.500             0.85\n",
       "14        85.00    8.250             0.55\n",
       "15        80.00    6.258             0.60\n",
       "16        74.00    6.008             0.60\n",
       "17        82.00    6.176             0.70\n",
       "18       106.00    8.678             0.85\n",
       "19        90.00    7.000             0.75\n",
       "20        85.00    7.510             0.75\n",
       "21       100.00    9.846             0.95\n",
       "22        90.00    7.344             0.80\n",
       "23        75.00    6.924             0.55\n",
       "24        86.00    7.000             0.55\n",
       "25        90.00    7.428             0.85\n",
       "26        85.00    5.424             0.55\n",
       "27        78.00    6.508             0.60\n",
       "28        80.00    6.500             0.60\n",
       "29        73.00   10.180             0.80\n",
       "..          ...      ...              ...\n",
       "107       85.00    6.192             0.65\n",
       "108       76.00    5.424             0.55\n",
       "109       85.00    7.426             0.70\n",
       "110       83.00    5.424             0.55\n",
       "111       80.00    8.008             0.60\n",
       "112       75.00    5.500             0.50\n",
       "113       80.00    7.400             0.55\n",
       "114       90.00    8.928             0.85\n",
       "115       75.00    7.000             0.55\n",
       "116       90.00    9.012             0.90\n",
       "117       80.00    6.008             0.60\n",
       "118       99.00    6.000             0.75\n",
       "119       90.00    8.000             0.80\n",
       "120       89.00    5.500             0.50\n",
       "121       84.00    7.008             0.60\n",
       "122       87.00    7.842             0.65\n",
       "123       80.00    6.424             0.55\n",
       "124       73.00    4.000             0.30\n",
       "125      100.00    8.000             0.80\n",
       "126       85.00    8.342             0.65\n",
       "127       79.00    5.592             0.65\n",
       "128       84.25    7.840             0.50\n",
       "129       87.00    8.428             0.85\n",
       "130       80.00    5.608             0.60\n",
       "131       75.00    6.000             0.60\n",
       "132       90.00    8.510             0.75\n",
       "133       86.00    5.340             0.50\n",
       "134       82.00    5.924             0.55\n",
       "135       85.00    8.500             0.75\n",
       "136       79.00    5.424             0.55\n",
       "\n",
       "[137 rows x 3 columns]"
      ]
     },
     "execution_count": 231,
     "metadata": {},
     "output_type": "execute_result"
    }
   ],
   "source": [
    "print(scipy.stats.pearsonr(df[\"difficulty\"], df[\"attack\"])) # significant weak negative correlation\n"
   ]
  },
  {
   "cell_type": "code",
   "execution_count": null,
   "metadata": {
    "collapsed": true
   },
   "outputs": [],
   "source": []
  },
  {
   "cell_type": "code",
   "execution_count": null,
   "metadata": {
    "collapsed": true
   },
   "outputs": [],
   "source": []
  },
  {
   "cell_type": "code",
   "execution_count": null,
   "metadata": {
    "collapsed": true
   },
   "outputs": [],
   "source": []
  },
  {
   "cell_type": "code",
   "execution_count": null,
   "metadata": {
    "collapsed": true
   },
   "outputs": [],
   "source": []
  },
  {
   "cell_type": "code",
   "execution_count": null,
   "metadata": {
    "collapsed": true
   },
   "outputs": [],
   "source": []
  },
  {
   "cell_type": "code",
   "execution_count": null,
   "metadata": {
    "collapsed": true
   },
   "outputs": [],
   "source": []
  },
  {
   "cell_type": "code",
   "execution_count": null,
   "metadata": {
    "collapsed": true
   },
   "outputs": [],
   "source": []
  },
  {
   "cell_type": "code",
   "execution_count": null,
   "metadata": {
    "collapsed": true
   },
   "outputs": [],
   "source": []
  },
  {
   "cell_type": "code",
   "execution_count": null,
   "metadata": {
    "collapsed": true
   },
   "outputs": [],
   "source": []
  },
  {
   "cell_type": "code",
   "execution_count": null,
   "metadata": {
    "collapsed": true
   },
   "outputs": [],
   "source": [
    "cur.close()\n",
    "conn.close()"
   ]
  }
 ],
 "metadata": {
  "anaconda-cloud": {},
  "kernelspec": {
   "display_name": "Python [conda root]",
   "language": "python",
   "name": "conda-root-py"
  },
  "language_info": {
   "codemirror_mode": {
    "name": "ipython",
    "version": 2
   },
   "file_extension": ".py",
   "mimetype": "text/x-python",
   "name": "python",
   "nbconvert_exporter": "python",
   "pygments_lexer": "ipython2",
   "version": "2.7.9"
  }
 },
 "nbformat": 4,
 "nbformat_minor": 2
}
